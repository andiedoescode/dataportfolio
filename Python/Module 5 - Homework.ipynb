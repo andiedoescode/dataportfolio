{
 "cells": [
  {
   "cell_type": "markdown",
   "metadata": {},
   "source": [
    "### Exercise 1. \n",
    "Create a dictionary named pairs with key value pairs of:\n",
    "    - 'hello' and 'fire', \n",
    "    - 3 and 'seven', \n",
    "    - 'strong' and 45. \n",
    "\n",
    "Then, print out the dictionary."
   ]
  },
  {
   "cell_type": "code",
   "execution_count": 22,
   "metadata": {},
   "outputs": [
    {
     "name": "stdout",
     "output_type": "stream",
     "text": [
      "{'hello': 'fire', 3: 'seven', 'strong': 45}\n"
     ]
    }
   ],
   "source": [
    "pairs = {\"hello\": \"fire\", 3: 'seven', \"strong\": 45}\n",
    "print(pairs)"
   ]
  },
  {
   "cell_type": "markdown",
   "metadata": {},
   "source": [
    "### Exercise 2. \n",
    "Add 'welcome' and 56 pair into <b><i>pairs</i></b> dictionary from exercise 1. Then, print out the dictionary. "
   ]
  },
  {
   "cell_type": "code",
   "execution_count": 8,
   "metadata": {},
   "outputs": [
    {
     "name": "stdout",
     "output_type": "stream",
     "text": [
      "{'hello': 'fire', 3: 'seven', 'strong': 45, 'welcome': 56}\n"
     ]
    }
   ],
   "source": [
    "pairs.update({\"welcome\": 56})\n",
    "print(pairs)"
   ]
  },
  {
   "cell_type": "markdown",
   "metadata": {},
   "source": [
    "### Exercise 3. \n",
    "Delete one item from <b><i>pairs</i></b> dictionary. Then, print deleted item and the dictionary."
   ]
  },
  {
   "cell_type": "code",
   "execution_count": 23,
   "metadata": {},
   "outputs": [
    {
     "name": "stdout",
     "output_type": "stream",
     "text": [
      "45\n",
      "{'hello': 'fire', 3: 'seven'}\n"
     ]
    }
   ],
   "source": [
    "del_item = pairs.pop(\"strong\")\n",
    "print(del_item)\n",
    "print(pairs)"
   ]
  },
  {
   "cell_type": "markdown",
   "metadata": {},
   "source": [
    "### Exercise 4. \n",
    "Print the value of an item where key is 3 in <b><i>pairs</i></b> dicitonary"
   ]
  },
  {
   "cell_type": "code",
   "execution_count": 12,
   "metadata": {},
   "outputs": [
    {
     "name": "stdout",
     "output_type": "stream",
     "text": [
      "seven\n"
     ]
    }
   ],
   "source": [
    "print(pairs[3])"
   ]
  },
  {
   "cell_type": "markdown",
   "metadata": {},
   "source": [
    "### Exercise 5. \n",
    "Try to find out if the key called 'hello' exist in <b><i>pairs</i></b> dictionary. Print 'key is found' message if the key exists otherwise print 'key is not there'."
   ]
  },
  {
   "cell_type": "code",
   "execution_count": 14,
   "metadata": {},
   "outputs": [
    {
     "name": "stdout",
     "output_type": "stream",
     "text": [
      "Key is found\n"
     ]
    }
   ],
   "source": [
    "if \"hello\" in pairs:\n",
    "\tprint(\"Key is found\")\n",
    "else:\n",
    "\tprint(\"key is not there\")"
   ]
  },
  {
   "cell_type": "markdown",
   "metadata": {},
   "source": [
    "### Exercise 6. \n",
    "\n",
    "For each item in a dictionary, create a for-loop that prints all the key-value pairs in the following format:\n",
    "\n",
    "        key -> value\n",
    "        \n",
    "To complete this exercise, first create your own dictionary of pet names. The key should be the type of pet (i.e. dog, lizard, etc) and the value should be the name of the specific pet. Your dictionary should have at least 5 items. "
   ]
  },
  {
   "cell_type": "code",
   "execution_count": 16,
   "metadata": {},
   "outputs": [
    {
     "name": "stdout",
     "output_type": "stream",
     "text": [
      "raccoon -> Beanie\n",
      "chincilla -> Earl\n",
      "tapir -> Violet\n",
      "badger -> Clyde\n",
      "skunk -> Bam-bam\n"
     ]
    }
   ],
   "source": [
    "pets = {\"raccoon\": \"Beanie\", \"chincilla\": \"Earl\", \"tapir\": \"Violet\", \"badger\": \"Clyde\" , \"skunk\": \"Bam-bam\"}\n",
    "\n",
    "for animal, name in pets.items():\n",
    "\tprint(f\"{animal} -> {name}\")"
   ]
  },
  {
   "cell_type": "markdown",
   "metadata": {},
   "source": [
    "### Exercise 7. \n",
    "\n",
    "Convert the following lists into a single dictionary.\n",
    "\n",
    "keys = ['Ten', 'Twenty', 'Thirty']\n",
    "values = [10, 20, 30]"
   ]
  },
  {
   "cell_type": "code",
   "execution_count": 20,
   "metadata": {},
   "outputs": [
    {
     "name": "stdout",
     "output_type": "stream",
     "text": [
      "{'Ten': 10, 'Twenty': 20, 'Thirty': 30}\n"
     ]
    }
   ],
   "source": [
    "keys = ['Ten', 'Twenty', 'Thirty']\n",
    "values = [10, 20, 30]\n",
    "\n",
    "a_dict = {}\n",
    "\n",
    "for index in range(3):\n",
    "\ta_dict[keys[index]] = values[index]\n",
    "\n",
    "print(a_dict)"
   ]
  },
  {
   "cell_type": "markdown",
   "metadata": {},
   "source": [
    "### Exercise 8. \n",
    "\n",
    "Convert the following list and dictionary into a single dictionary. The name of the patient should be the key and their health info should be the value. \n",
    "\n",
    "patient_name = [\"Lily\", \"Morgan\", \"Nicholas\"]\n",
    "\n",
    "patient_info = {\"5'6\" : \"178lbs\", \"5'9\" : \"134lbs\", \"6'1\" : \"218lbs\"}"
   ]
  },
  {
   "cell_type": "code",
   "execution_count": 36,
   "metadata": {},
   "outputs": [],
   "source": [
    "patient_name = [\"Lily\", \"Morgan\", \"Nicholas\"]\n",
    "patient_info = {\"5'6\": \"178lbs\", \"5'9\": \"134lbs\", \"6'1\": \"218lbs\"}"
   ]
  },
  {
   "cell_type": "code",
   "execution_count": 61,
   "metadata": {},
   "outputs": [
    {
     "name": "stdout",
     "output_type": "stream",
     "text": [
      "{'Lily': {\"5'6\": '178lbs'}, 'Morgan': {\"5'9\": '134lbs'}, 'Nicholas': {\"6'1\": '218lbs'}}\n"
     ]
    }
   ],
   "source": [
    "# patients = {}\n",
    "# for index in range(len(patient_name)):\n",
    "# \tprint(patient_info[index])\n",
    "\t# patients[patient_name[index]] = patient_info[index]\n",
    "\n",
    "info_keys = []\n",
    "patients = {}\n",
    "\n",
    "for key in patient_info.keys():\n",
    "\tinfo_keys.append(key)\n",
    "\n",
    "for index in range(len(patient_name)):\n",
    "\tpatients[patient_name[index]] = {info_keys[index]: patient_info[info_keys[index]]}\n",
    "\n",
    "print(patients)\n",
    "\n",
    "# item_index = info_keys[0]\n",
    "# item_test = patient_info[\"5'6\"]\n",
    "\n",
    "# print(item_index)\n",
    "# print(item_test)\n"
   ]
  },
  {
   "cell_type": "markdown",
   "metadata": {},
   "source": [
    "### Exercise 6. in Homework Answers file \n",
    "Create a Test Scores program that gets the name of students and test score from a user. Then, generate a list of students who passed and a list of students who failed where passing test score is 60 or above. \n"
   ]
  },
  {
   "cell_type": "code",
   "execution_count": 62,
   "metadata": {},
   "outputs": [
    {
     "name": "stdout",
     "output_type": "stream",
     "text": [
      "The students who passed are: ['Lina', 'Escaline', 'Remi'].\n",
      "The students who failed are: ['Bob', 'Stephen'].\n"
     ]
    }
   ],
   "source": [
    "all_grades = {}\n",
    "passed = []\n",
    "failed = []\n",
    "\n",
    "stop = False\n",
    "\n",
    "while not stop:\n",
    "\tstudent = input(\"Student name: \")\n",
    "\tgrade = float(input(\"Test grade: \"))\n",
    "\tall_grades[student] = grade\n",
    "\tstop = input(\"Continue? (y/n)\") == \"n\"\n",
    "\n",
    "for student, grade in all_grades.items():\n",
    "\tif grade < 60:\n",
    "\t\tfailed.append(student)\n",
    "\telse:\n",
    "\t\tpassed.append(student)\n",
    "\n",
    "print(f\"The students who passed are: {passed}.\")\n",
    "print(f\"The students who failed are: {failed}.\")"
   ]
  },
  {
   "cell_type": "markdown",
   "metadata": {},
   "source": [
    "### Exercise 7. \n",
    "\n",
    "Create a Word Counter program that gets a string of text from a user and then counts the number of times a word occurs in the string. \n",
    "\n",
    "The output should look something like this:\n",
    "\n",
    "    The Word Counter Program\n",
    "    \n",
    "    Enter a text string: \n",
    "    Humpty Dumpty sat on a wall, Humpty Dumpty had a great fall. All the king’s horses and all the king’s men couldn’t put Humpty together again.\n",
    "\n",
    "    a : 2\n",
    "    again : 1\n",
    "    all : 2\n",
    "    and : 1\n",
    "    couldn’t : 1\n",
    "    dumpty : 2\n",
    "    fall : 1\n",
    "    great : 1\n",
    "    had : 1\n",
    "    horses : 1\n",
    "    humpty : 3\n",
    "    king’s : 2\n",
    "    men : 1\n",
    "    on : 1\n",
    "    put : 1\n",
    "    sat : 1\n",
    "    the : 2\n",
    "    together : 1\n",
    "    wall : 1\n",
    "\n",
    "    There were total 26 words in the text string   \n"
   ]
  },
  {
   "cell_type": "code",
   "execution_count": 91,
   "metadata": {},
   "outputs": [
    {
     "name": "stdout",
     "output_type": "stream",
     "text": [
      "The Word Counter Program\n",
      "\n",
      "Enter a text string: \n",
      "Humpty Dumpty sat on a wall, Humpty Dumpty had a great fall. All the king’s horses and all the king’s men couldn’t put Humpty together again. \n",
      "\n",
      "\n",
      "All: 1\n",
      "Dumpty: 2\n",
      "Humpty: 3\n",
      "a: 2\n",
      "again: 1\n",
      "all: 1\n",
      "and: 1\n",
      "couldn’t: 1\n",
      "fall: 1\n",
      "great: 1\n",
      "had: 1\n",
      "horses: 1\n",
      "king’s: 2\n",
      "men: 1\n",
      "on: 1\n",
      "put: 1\n",
      "sat: 1\n",
      "the: 2\n",
      "together: 1\n",
      "wall: 1\n",
      "\n",
      "There were total 26 words in the text string.\n"
     ]
    }
   ],
   "source": [
    "def counter_program():\n",
    "\tprint(\"The Word Counter Program\\n\\nEnter a text string: \")\n",
    "\tuser_text = input(\"Enter a text string: \")\n",
    "\tprint(user_text, \"\\n\\n\")\n",
    "\tuser_list = user_text.replace(\",\", \"\").replace(\".\", \"\").split()\n",
    "\tuser_list_unique = sorted(set(user_list))\n",
    "\t# print(user_list)\n",
    "\t# print(user_list_unique)\n",
    "\t\n",
    "\tfor word in user_list_unique:\n",
    "\t\tprint(f\"{word}: {user_list.count(word)}\")\n",
    "\n",
    "\tprint(f\"\\nThere were total {len(user_list)} words in the text string.\")\n",
    "\n",
    "counter_program()\n",
    "\n",
    "# Hello Humpty Dumpty you egg head do do"
   ]
  },
  {
   "cell_type": "markdown",
   "metadata": {},
   "source": []
  },
  {
   "cell_type": "code",
   "execution_count": 65,
   "metadata": {},
   "outputs": [
    {
     "name": "stdout",
     "output_type": "stream",
     "text": [
      "['Geeks', 'for', 'Geeks']\n",
      "{'Geeks', 'for'}\n"
     ]
    }
   ],
   "source": [
    "\n",
    "var = [\"Geeks\", \"for\", \"Geeks\"]\n",
    "using_set = set(var)\n",
    "print(var)\n",
    "print(using_set)"
   ]
  },
  {
   "cell_type": "code",
   "execution_count": null,
   "metadata": {},
   "outputs": [],
   "source": []
  }
 ],
 "metadata": {
  "kernelspec": {
   "display_name": "Python 3",
   "language": "python",
   "name": "python3"
  },
  "language_info": {
   "codemirror_mode": {
    "name": "ipython",
    "version": 3
   },
   "file_extension": ".py",
   "mimetype": "text/x-python",
   "name": "python",
   "nbconvert_exporter": "python",
   "pygments_lexer": "ipython3",
   "version": "3.12.1"
  }
 },
 "nbformat": 4,
 "nbformat_minor": 4
}

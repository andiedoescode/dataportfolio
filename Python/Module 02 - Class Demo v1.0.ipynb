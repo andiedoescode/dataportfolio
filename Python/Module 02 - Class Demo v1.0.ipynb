{
 "cells": [
  {
   "cell_type": "markdown",
   "id": "38d51a88",
   "metadata": {},
   "source": [
    "### Libraries: Random Number Generator \n",
    "\n",
    "Libraries are a collection of functions that can only be accessed by first importing the library into your notebook. Python has a function that allows you to generate a random number - this function is stored in the library called \"Random\". It is good practice to import all the libraries you'll need at the beginning of your notebook.  "
   ]
  },
  {
   "cell_type": "code",
   "execution_count": 1,
   "id": "0db23e80",
   "metadata": {},
   "outputs": [
    {
     "data": {
      "text/plain": [
       "0.2156289126484605"
      ]
     },
     "execution_count": 1,
     "metadata": {},
     "output_type": "execute_result"
    }
   ],
   "source": [
    "# import a library to use specific functions\n",
    "\n",
    "import random\n",
    "\n",
    "# now that the library is imported, you can call specific functions\n",
    "# below is the .random() function from the 'random' library\n",
    "\n",
    "random.random()"
   ]
  },
  {
   "cell_type": "code",
   "execution_count": 2,
   "id": "3444abc3",
   "metadata": {},
   "outputs": [
    {
     "data": {
      "text/plain": [
       "0.5015726167126138"
      ]
     },
     "execution_count": 2,
     "metadata": {},
     "output_type": "execute_result"
    }
   ],
   "source": [
    "# import a library and give it a nickname\n",
    "\n",
    "import random as rand\n",
    "\n",
    "# now you will use the nickname (not the full name) when you want to call a func\n",
    "\n",
    "rand.random()"
   ]
  },
  {
   "cell_type": "code",
   "execution_count": null,
   "id": "ee982cac",
   "metadata": {},
   "outputs": [],
   "source": [
    "# print a random integer\n",
    "# rand.randint(start #, end #); start and end are inclusive\n",
    "\n",
    "rand.randint(0, 10)"
   ]
  },
  {
   "cell_type": "code",
   "execution_count": 4,
   "id": "b5fb92f3",
   "metadata": {},
   "outputs": [
    {
     "name": "stdout",
     "output_type": "stream",
     "text": [
      "3\n",
      "5\n",
      "5\n",
      "1\n",
      "5\n"
     ]
    }
   ],
   "source": [
    "# print a series of random integers between 1 and 5\n",
    "\n",
    "print(rand.randint(1, 5))\n",
    "print(rand.randint(1, 5))\n",
    "print(rand.randint(1, 5))\n",
    "print(rand.randint(1, 5))\n",
    "print(rand.randint(1, 5))"
   ]
  },
  {
   "cell_type": "markdown",
   "id": "4a1f6221",
   "metadata": {},
   "source": [
    "### Built-in Functions: round (arg, [decimal places])\n",
    "\n",
    "Round a number to a whole number or to a specific number of decimal places"
   ]
  },
  {
   "cell_type": "code",
   "execution_count": 5,
   "id": "08d762cf",
   "metadata": {},
   "outputs": [
    {
     "data": {
      "text/plain": [
       "3"
      ]
     },
     "execution_count": 5,
     "metadata": {},
     "output_type": "execute_result"
    }
   ],
   "source": [
    "# round up to the nearest whole number\n",
    "\n",
    "round(3.142857)"
   ]
  },
  {
   "cell_type": "code",
   "execution_count": 6,
   "id": "4610ca24",
   "metadata": {},
   "outputs": [
    {
     "data": {
      "text/plain": [
       "3.0"
      ]
     },
     "execution_count": 6,
     "metadata": {},
     "output_type": "execute_result"
    }
   ],
   "source": [
    "# round a number to '0' decimal places \n",
    "# this is the default, will be the same as above\n",
    "\n",
    "round(3.142857, 0)"
   ]
  },
  {
   "cell_type": "code",
   "execution_count": 7,
   "id": "7e1112d7",
   "metadata": {},
   "outputs": [
    {
     "data": {
      "text/plain": [
       "3.1"
      ]
     },
     "execution_count": 7,
     "metadata": {},
     "output_type": "execute_result"
    }
   ],
   "source": [
    "# round a number to '1' decimal places \n",
    "\n",
    "round(3.142857, 1)"
   ]
  },
  {
   "cell_type": "code",
   "execution_count": 8,
   "id": "8f855392",
   "metadata": {},
   "outputs": [
    {
     "data": {
      "text/plain": [
       "3.14286"
      ]
     },
     "execution_count": 8,
     "metadata": {},
     "output_type": "execute_result"
    }
   ],
   "source": [
    "# round a number to '5' decimal places \n",
    "\n",
    "round(3.142857, 5)"
   ]
  },
  {
   "cell_type": "markdown",
   "id": "443bfa4f",
   "metadata": {},
   "source": [
    "### Built-in Functions: len (arg)\n",
    "\n",
    "Return the number of items in an object (ex. word, sentence, list, etc.)"
   ]
  },
  {
   "cell_type": "code",
   "execution_count": 9,
   "id": "91f8cfe9",
   "metadata": {},
   "outputs": [
    {
     "data": {
      "text/plain": [
       "12"
      ]
     },
     "execution_count": 9,
     "metadata": {},
     "output_type": "execute_result"
    }
   ],
   "source": [
    "# when the object is a string len() returns the number of characters\n",
    "\n",
    "len(\"hello, world\")"
   ]
  },
  {
   "cell_type": "code",
   "execution_count": 10,
   "id": "2252a235",
   "metadata": {},
   "outputs": [
    {
     "ename": "TypeError",
     "evalue": "object of type 'float' has no len()",
     "output_type": "error",
     "traceback": [
      "\u001b[1;31m---------------------------------------------------------------------------\u001b[0m",
      "\u001b[1;31mTypeError\u001b[0m                                 Traceback (most recent call last)",
      "Cell \u001b[1;32mIn[10], line 3\u001b[0m\n\u001b[0;32m      1\u001b[0m \u001b[38;5;66;03m# what is the length of this number?\u001b[39;00m\n\u001b[1;32m----> 3\u001b[0m \u001b[38;5;28mlen\u001b[39m(\u001b[38;5;241m123.456789\u001b[39m)\n",
      "\u001b[1;31mTypeError\u001b[0m: object of type 'float' has no len()"
     ]
    }
   ],
   "source": [
    "# what is the length of this number?\n",
    "\n",
    "len(123.456789)"
   ]
  },
  {
   "cell_type": "code",
   "execution_count": 11,
   "id": "033d580c",
   "metadata": {},
   "outputs": [
    {
     "data": {
      "text/plain": [
       "0"
      ]
     },
     "execution_count": 11,
     "metadata": {},
     "output_type": "execute_result"
    }
   ],
   "source": [
    "len(\"\")"
   ]
  },
  {
   "cell_type": "markdown",
   "id": "85b24ddc",
   "metadata": {},
   "source": [
    "### Exercise 1: \n",
    "\n",
    "Generate a random number between two values. The two values should be provided by a user. "
   ]
  },
  {
   "cell_type": "code",
   "execution_count": 12,
   "id": "735098e6",
   "metadata": {},
   "outputs": [
    {
     "name": "stdin",
     "output_type": "stream",
     "text": [
      "Number 1:  2\n",
      "Number 2:  4\n"
     ]
    },
    {
     "data": {
      "text/plain": [
       "3"
      ]
     },
     "execution_count": 12,
     "metadata": {},
     "output_type": "execute_result"
    }
   ],
   "source": [
    "num1 = int(input(\"Number 1: \"))\n",
    "num2 = int(input(\"Number 2: \"))\n",
    "\n",
    "rand.randint(num1, num2)"
   ]
  },
  {
   "cell_type": "code",
   "execution_count": null,
   "id": "df21d2ef",
   "metadata": {},
   "outputs": [],
   "source": []
  },
  {
   "cell_type": "markdown",
   "id": "a8efa163",
   "metadata": {},
   "source": [
    "### String Methods\n",
    "\n",
    "There are many functions that are specific for use with strings. "
   ]
  },
  {
   "cell_type": "code",
   "execution_count": 14,
   "id": "2a00d436",
   "metadata": {},
   "outputs": [],
   "source": [
    "message = \"  learn to code in PYTHON  \""
   ]
  },
  {
   "cell_type": "code",
   "execution_count": 15,
   "id": "79507d25",
   "metadata": {},
   "outputs": [
    {
     "data": {
      "text/plain": [
       "27"
      ]
     },
     "execution_count": 15,
     "metadata": {},
     "output_type": "execute_result"
    }
   ],
   "source": [
    "# length of string\n",
    "\n",
    "len(message)"
   ]
  },
  {
   "cell_type": "code",
   "execution_count": 16,
   "id": "eb866261",
   "metadata": {},
   "outputs": [
    {
     "data": {
      "text/plain": [
       "'  Learn To Code In Python  '"
      ]
     },
     "execution_count": 16,
     "metadata": {},
     "output_type": "execute_result"
    }
   ],
   "source": [
    "# change the case of the string to 'title case'\n",
    "\n",
    "message.title()"
   ]
  },
  {
   "cell_type": "code",
   "execution_count": 17,
   "id": "18c3cab3",
   "metadata": {},
   "outputs": [
    {
     "data": {
      "text/plain": [
       "'  LEARN TO CODE IN PYTHON  '"
      ]
     },
     "execution_count": 17,
     "metadata": {},
     "output_type": "execute_result"
    }
   ],
   "source": [
    "# change the case of the string to 'upper case'\n",
    "\n",
    "message.upper()"
   ]
  },
  {
   "cell_type": "code",
   "execution_count": 18,
   "id": "a1dd0969",
   "metadata": {},
   "outputs": [
    {
     "data": {
      "text/plain": [
       "'  learn to code in python  '"
      ]
     },
     "execution_count": 18,
     "metadata": {},
     "output_type": "execute_result"
    }
   ],
   "source": [
    "# change the case of the string to 'lower case'\n",
    "\n",
    "message.lower()"
   ]
  },
  {
   "cell_type": "code",
   "execution_count": 20,
   "id": "e2908881",
   "metadata": {},
   "outputs": [
    {
     "data": {
      "text/plain": [
       "'learn to code in PYTHON'"
      ]
     },
     "execution_count": 20,
     "metadata": {},
     "output_type": "execute_result"
    }
   ],
   "source": [
    "# strip blank spaces from entire string\n",
    "\n",
    "print(\">>>\" + message + \"<<<\")\n",
    "\n",
    "message.strip()"
   ]
  },
  {
   "cell_type": "code",
   "execution_count": 21,
   "id": "492c000a",
   "metadata": {},
   "outputs": [
    {
     "data": {
      "text/plain": [
       "23"
      ]
     },
     "execution_count": 21,
     "metadata": {},
     "output_type": "execute_result"
    }
   ],
   "source": [
    "# length of string without blank spaces \n",
    "\n",
    "len(message.strip())"
   ]
  },
  {
   "cell_type": "code",
   "execution_count": 23,
   "id": "559833b3",
   "metadata": {},
   "outputs": [
    {
     "name": "stdout",
     "output_type": "stream",
     "text": [
      ">>>  learn to code in PYTHON  <<<\n"
     ]
    },
    {
     "data": {
      "text/plain": [
       "'learn to code in PYTHON  '"
      ]
     },
     "execution_count": 23,
     "metadata": {},
     "output_type": "execute_result"
    }
   ],
   "source": [
    "# strip blank spaces from left side of string\n",
    "\n",
    "print(\">>>\" + message + \"<<<\")\n",
    "\n",
    "message.lstrip()"
   ]
  },
  {
   "cell_type": "code",
   "execution_count": 24,
   "id": "5e0997ee",
   "metadata": {},
   "outputs": [
    {
     "name": "stdout",
     "output_type": "stream",
     "text": [
      ">>>  learn to code in PYTHON  <<<\n"
     ]
    },
    {
     "data": {
      "text/plain": [
       "'  learn to code in PYTHON'"
      ]
     },
     "execution_count": 24,
     "metadata": {},
     "output_type": "execute_result"
    }
   ],
   "source": [
    "# strip blank spaces from right side of string\n",
    "\n",
    "print(\">>>\" + message + \"<<<\")\n",
    "\n",
    "message.rstrip()"
   ]
  },
  {
   "cell_type": "code",
   "execution_count": 25,
   "id": "4995f3fd",
   "metadata": {},
   "outputs": [
    {
     "name": "stdout",
     "output_type": "stream",
     "text": [
      ">>>  learn to code in PYTHON  <<<\n"
     ]
    },
    {
     "data": {
      "text/plain": [
       "1"
      ]
     },
     "execution_count": 25,
     "metadata": {},
     "output_type": "execute_result"
    }
   ],
   "source": [
    "# return the number of times a value appears in a string \n",
    "# case-sensitive \n",
    "\n",
    "print(\">>>\" + message + \"<<<\")\n",
    "\n",
    "message.count(\"to\")"
   ]
  },
  {
   "cell_type": "code",
   "execution_count": 26,
   "id": "3c80464d",
   "metadata": {},
   "outputs": [
    {
     "data": {
      "text/plain": [
       "2"
      ]
     },
     "execution_count": 26,
     "metadata": {},
     "output_type": "execute_result"
    }
   ],
   "source": [
    "message.count(\"o\")"
   ]
  },
  {
   "cell_type": "code",
   "execution_count": 27,
   "id": "28df8477",
   "metadata": {},
   "outputs": [
    {
     "name": "stdout",
     "output_type": "stream",
     "text": [
      ">>>  learn to code in PYTHON  <<<\n"
     ]
    },
    {
     "data": {
      "text/plain": [
       "'**learn*to*code*in*PYTHON**'"
      ]
     },
     "execution_count": 27,
     "metadata": {},
     "output_type": "execute_result"
    }
   ],
   "source": [
    "# replace a specific value with another specific value\n",
    "\n",
    "print(\">>>\" + message + \"<<<\")\n",
    "\n",
    "# replace blank spaces with *\n",
    "\n",
    "message.replace(\" \", \"*\")"
   ]
  },
  {
   "cell_type": "code",
   "execution_count": 28,
   "id": "8858ab16",
   "metadata": {},
   "outputs": [
    {
     "name": "stdout",
     "output_type": "stream",
     "text": [
      ">>>  learn to code in PYTHON  <<<\n"
     ]
    }
   ],
   "source": [
    "# changes are not permanent \n",
    "\n",
    "print(\">>>\" + message + \"<<<\")"
   ]
  },
  {
   "cell_type": "code",
   "execution_count": 29,
   "id": "f67b9f30",
   "metadata": {},
   "outputs": [
    {
     "data": {
      "text/plain": [
       "'r'"
      ]
     },
     "execution_count": 29,
     "metadata": {},
     "output_type": "execute_result"
    }
   ],
   "source": [
    "# indexing strings\n",
    "# accessing characters by index number \n",
    "\n",
    "# what character is in the 5th index poisiton?\n",
    "\n",
    "message[5]"
   ]
  },
  {
   "cell_type": "code",
   "execution_count": 30,
   "id": "206c43f7",
   "metadata": {},
   "outputs": [
    {
     "data": {
      "text/plain": [
       "'H'"
      ]
     },
     "execution_count": 30,
     "metadata": {},
     "output_type": "execute_result"
    }
   ],
   "source": [
    "# indexing strings from back to front using negative numbers\n",
    "\n",
    "message[-5]"
   ]
  },
  {
   "cell_type": "code",
   "execution_count": 31,
   "id": "a894ac0a",
   "metadata": {},
   "outputs": [
    {
     "ename": "IndexError",
     "evalue": "string index out of range",
     "output_type": "error",
     "traceback": [
      "\u001b[1;31m---------------------------------------------------------------------------\u001b[0m",
      "\u001b[1;31mIndexError\u001b[0m                                Traceback (most recent call last)",
      "Cell \u001b[1;32mIn[31], line 1\u001b[0m\n\u001b[1;32m----> 1\u001b[0m message[\u001b[38;5;241m55\u001b[39m]\n",
      "\u001b[1;31mIndexError\u001b[0m: string index out of range"
     ]
    }
   ],
   "source": [
    "message[55]"
   ]
  },
  {
   "cell_type": "markdown",
   "id": "6df3eaaf",
   "metadata": {},
   "source": [
    "### Exercise 2:\n",
    "\n",
    "Write a program to strip 4 lines of text of all white spaces. Return all lines of text in 'title case'. Replace all periods with exclamation points. \n",
    "\n",
    "    line 1 = \"  beautiful is better than ugly. \"\n",
    "    line 2 = \"   explicit is better than implicit. \"\n",
    "    line 3 = \"simple is better than complex.       \"\n",
    "    line 4 = \" complex is better than complicated.\"\n",
    "\n",
    "Result should be:\n",
    "\n",
    "    Beautiful Is Better Than Ugly!\n",
    "    Explicit Is Better Than Implicit!\n",
    "    Simple Is Better Than Complex!\n",
    "    Complex Is Better Than Complicated!"
   ]
  },
  {
   "cell_type": "code",
   "execution_count": 35,
   "id": "42ec1758",
   "metadata": {},
   "outputs": [],
   "source": [
    "line1 = \"  beautiful is better than ugly. \"\n",
    "line2 = \"   explicit is better than implicit. \"\n",
    "line3 = \"simple is better than complex.       \"\n",
    "line4 = \" complex is better than complicated.\"\n"
   ]
  },
  {
   "cell_type": "code",
   "execution_count": 38,
   "id": "1256a3d4",
   "metadata": {},
   "outputs": [
    {
     "name": "stdout",
     "output_type": "stream",
     "text": [
      "Beautiful Is Better Than Ugly!\n",
      "Explicit Is Better Than Implicit!\n"
     ]
    }
   ],
   "source": [
    "print(line1.strip().title().replace(\".\", \"!\"))\n",
    "print(line2.strip().title().replace(\".\", \"!\"))\n",
    "print(line3.strip().title().replace(\".\", \"!\"))\n",
    "print(line4.strip().title().replace(\".\", \"!\"))"
   ]
  },
  {
   "cell_type": "markdown",
   "id": "4208b499",
   "metadata": {},
   "source": [
    "### Customized Functions\n",
    "\n",
    "Define your own function to perform specific tasks"
   ]
  },
  {
   "cell_type": "code",
   "execution_count": 39,
   "id": "f34e4c39",
   "metadata": {},
   "outputs": [
    {
     "data": {
      "text/plain": [
       "14"
      ]
     },
     "execution_count": 39,
     "metadata": {},
     "output_type": "execute_result"
    }
   ],
   "source": [
    "# def is used to define a new function and store it to notebook memory\n",
    "\n",
    "# create a function to add to given numbers\n",
    "\n",
    "def add(x, y): \n",
    "    return x + y\n",
    "\n",
    "# replace with specific numbers\n",
    "\n",
    "add(4, 10)"
   ]
  },
  {
   "cell_type": "code",
   "execution_count": 40,
   "id": "a8ac8cdb",
   "metadata": {},
   "outputs": [
    {
     "name": "stdout",
     "output_type": "stream",
     "text": [
      "5\n",
      "#####\n",
      "5\n",
      "#####\n",
      "5\n",
      "#####\n"
     ]
    }
   ],
   "source": [
    "def my_function():\n",
    "    x = rand.randint(2, 5)\n",
    "    print(x)\n",
    "    print(\"#\" * x)\n",
    "    \n",
    "# call the function three separate times\n",
    "    \n",
    "my_function()\n",
    "my_function()\n",
    "my_function()"
   ]
  },
  {
   "cell_type": "code",
   "execution_count": null,
   "id": "fd91a681",
   "metadata": {},
   "outputs": [],
   "source": [
    "def my_function2(start_no, end_no):\n",
    "    x = rand.randint(start_no, end_no)\n",
    "    print(x)\n",
    "    print(\"@\" * x)\n",
    "    \n",
    "# call function three separate times with different input \n",
    "    \n",
    "my_function2(1, 5)\n",
    "my_function2(1, 10)\n",
    "my_function2(10, 14)"
   ]
  },
  {
   "cell_type": "code",
   "execution_count": 41,
   "id": "9f649eb0",
   "metadata": {},
   "outputs": [],
   "source": [
    "# returning specific values with a function \n",
    "\n",
    "def add(a, b):\n",
    "    print(f\"ADDING {a} + {b}\")\n",
    "    return a + b\n",
    "\n",
    "def subtract(a, b):\n",
    "    print(f\"SUBTRACTING {a} - {b}\")\n",
    "    return a - b\n",
    "\n",
    "def multiply(a, b):\n",
    "    print(f\"MULTIPLYING {a} * {b}\")\n",
    "    return a * b\n",
    "\n",
    "def divide(a, b):\n",
    "    print(f\"DIVIDING {a} / {b}\")\n",
    "    return a / b"
   ]
  },
  {
   "cell_type": "code",
   "execution_count": 42,
   "id": "2db40388",
   "metadata": {},
   "outputs": [
    {
     "name": "stdout",
     "output_type": "stream",
     "text": [
      "Let's do some math with just functions!\n"
     ]
    },
    {
     "name": "stdin",
     "output_type": "stream",
     "text": [
      "Enter an integer:  6\n",
      "Enter a float:  8.9\n"
     ]
    },
    {
     "name": "stdout",
     "output_type": "stream",
     "text": [
      "The choosen numbers are: 6 and 8.9. The results of our calculations are: \n",
      "----------\n",
      "ADDING 6 + 8.9\n",
      "SUBTRACTING 6 - 8.9\n",
      "MULTIPLYING 6 * 8.9\n",
      "DIVIDING 6 / 8.9\n",
      "----------\n",
      "Addition:\t14.9\n",
      "Subtraction:\t-2.9000000000000004\n",
      "Multiplication:\t53.400000000000006\n",
      "Division:\t0.6741573033707865\n"
     ]
    }
   ],
   "source": [
    "# using your functions to do some math\n",
    "\n",
    "print(\"Let's do some math with just functions!\")\n",
    "\n",
    "n1 = int(input(\"Enter an integer: \"))\n",
    "n2 = float(input(\"Enter a float: \"))\n",
    "\n",
    "print(f\"The choosen numbers are: {n1} and {n2}. The results of our calculations are: \")\n",
    "\n",
    "print(\"-\" * 10)\n",
    "\n",
    "addition = add(n1, n2)\n",
    "subtraction = subtract(n1, n2)\n",
    "multiplication = multiply(n1, n2)\n",
    "division = divide(n1, n2)\n",
    "\n",
    "print(\"-\" * 10)\n",
    "\n",
    "print(f\"Addition:\\t{addition}\\nSubtraction:\\t{subtraction}\\nMultiplication:\\t{multiplication}\\nDivision:\\t{division}\")"
   ]
  },
  {
   "cell_type": "code",
   "execution_count": 44,
   "id": "b62b3395",
   "metadata": {},
   "outputs": [
    {
     "data": {
      "text/plain": [
       "14"
      ]
     },
     "execution_count": 44,
     "metadata": {},
     "output_type": "execute_result"
    }
   ],
   "source": [
    "# defining functions with constants\n",
    "\n",
    "def add(a, b, c):\n",
    "    return a + b + c\n",
    "\n",
    "add(1, 6, 7)"
   ]
  },
  {
   "cell_type": "code",
   "execution_count": 45,
   "id": "bb42189f",
   "metadata": {},
   "outputs": [
    {
     "data": {
      "text/plain": [
       "17"
      ]
     },
     "execution_count": 45,
     "metadata": {},
     "output_type": "execute_result"
    }
   ],
   "source": [
    "# defining a function with a constant \n",
    "\n",
    "def add(a, b, c = 10):\n",
    "    return a + b + c\n",
    "\n",
    "add(1, 6)"
   ]
  },
  {
   "cell_type": "code",
   "execution_count": 47,
   "id": "42a93971",
   "metadata": {},
   "outputs": [
    {
     "name": "stdout",
     "output_type": "stream",
     "text": [
      "Miss Piggy likes Kermit\n"
     ]
    }
   ],
   "source": [
    "# non-numeric functions \n",
    "\n",
    "def match(person1, person2):\n",
    "    print(person1 + \" likes \" + person2)\n",
    "\n",
    "name1 = \"Miss Piggy\"\n",
    "name2 = \"Kermit\"\n",
    "\n",
    "match(name1, name2)"
   ]
  },
  {
   "cell_type": "code",
   "execution_count": 48,
   "id": "9c749ef0",
   "metadata": {},
   "outputs": [
    {
     "name": "stdout",
     "output_type": "stream",
     "text": [
      "Kermit likes Miss Piggy\n"
     ]
    }
   ],
   "source": [
    "# change the order of the arguments\n",
    "\n",
    "match(name2, name1)"
   ]
  },
  {
   "cell_type": "code",
   "execution_count": 49,
   "id": "62456aa8",
   "metadata": {},
   "outputs": [
    {
     "name": "stdout",
     "output_type": "stream",
     "text": [
      "return_val = 10\n",
      "x = 5\n"
     ]
    }
   ],
   "source": [
    "# more function examples\n",
    "\n",
    "def double_func(x):\n",
    "    x *= 2 # multiply value of x by 2\n",
    "    return x\n",
    "\n",
    "\n",
    "# use the function to define a variable called 'return_val'\n",
    "\n",
    "x = 5\n",
    "\n",
    "return_val = double_func(x)\n",
    "\n",
    "print(f\"return_val = {return_val}\")\n",
    "print(f\"x = {x}\")"
   ]
  },
  {
   "cell_type": "code",
   "execution_count": 50,
   "id": "cb8a2968",
   "metadata": {},
   "outputs": [
    {
     "name": "stdout",
     "output_type": "stream",
     "text": [
      "return_val = what?what?\n",
      "x = what?\n"
     ]
    }
   ],
   "source": [
    "# x can also be a string\n",
    "\n",
    "x = \"what?\"\n",
    "\n",
    "return_val = double_func(x)\n",
    "\n",
    "print(f\"return_val = {return_val}\")\n",
    "print(f\"x = {x}\")"
   ]
  },
  {
   "cell_type": "markdown",
   "id": "cb8519e8",
   "metadata": {},
   "source": [
    "### Exercise 3:\n",
    "\n",
    "Write a function called \"compute\" to calculate the area and perimeter of a rectangle. The length and width values should be user input. Your output should be something like this:\n",
    "\n",
    "    Please enter length: 25\n",
    "    Please enter width: 10\n",
    "\n",
    "    Area is 250\n",
    "    Perimeter is 70\n",
    "\n",
    "If you aren't sure the equation for area and perimeter, you will have to search that first before creating your function! "
   ]
  },
  {
   "cell_type": "code",
   "execution_count": 55,
   "id": "c7d50112",
   "metadata": {},
   "outputs": [
    {
     "name": "stdin",
     "output_type": "stream",
     "text": [
      "Please enter length:  25\n",
      "Please enter width:  10\n"
     ]
    },
    {
     "name": "stdout",
     "output_type": "stream",
     "text": [
      "\n",
      "Area is 250\n",
      "Perimeter is 70\n"
     ]
    }
   ],
   "source": [
    "length = int(input(\"Please enter length: \"))\n",
    "width = int(input(\"Please enter width: \"))\n",
    "\n",
    "def areaCalc(x, y):\n",
    "    return x*y\n",
    "\n",
    "def perimeterCalc(x, y):\n",
    "    return x*2 + y*2\n",
    "\n",
    "area = areaCalc(length, width)\n",
    "perimeter = perimeterCalc(length, width)\n",
    "\n",
    "print(f\"\\nArea is {area}\")\n",
    "print(f\"Perimeter is {perimeter}\")\n"
   ]
  },
  {
   "cell_type": "code",
   "execution_count": null,
   "id": "ee6f954e",
   "metadata": {},
   "outputs": [],
   "source": []
  }
 ],
 "metadata": {
  "kernelspec": {
   "display_name": "Python 3 (ipykernel)",
   "language": "python",
   "name": "python3"
  },
  "language_info": {
   "codemirror_mode": {
    "name": "ipython",
    "version": 3
   },
   "file_extension": ".py",
   "mimetype": "text/x-python",
   "name": "python",
   "nbconvert_exporter": "python",
   "pygments_lexer": "ipython3",
   "version": "3.11.7"
  }
 },
 "nbformat": 4,
 "nbformat_minor": 5
}

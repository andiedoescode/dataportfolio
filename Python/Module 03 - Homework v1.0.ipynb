{
 "cells": [
  {
   "cell_type": "markdown",
   "metadata": {},
   "source": [
    "### Exercise 1\n",
    "Ask a user for 5 names and place each one in to a list called <i>names</i>. Then, print <i>names</i>."
   ]
  },
  {
   "cell_type": "code",
   "execution_count": 6,
   "metadata": {},
   "outputs": [
    {
     "name": "stdin",
     "output_type": "stream",
     "text": [
      "Enter a name:  Andrea\n",
      "Enter a name:  Schmandrea\n",
      "Enter a name:  Dramandera\n",
      "Enter a name:  Poadfea\n",
      "Enter a name:  asdfkj\n"
     ]
    },
    {
     "name": "stdout",
     "output_type": "stream",
     "text": [
      "['Andrea', 'Schmandrea', 'Dramandera', 'Poadfea', 'asdfkj']\n"
     ]
    }
   ],
   "source": [
    "name1 = input(\"Enter a name: \")\n",
    "name2 = input(\"Enter a name: \")\n",
    "name3 = input(\"Enter a name: \")\n",
    "name4 = input(\"Enter a name: \")\n",
    "name5 = input(\"Enter a name: \")\n",
    "\n",
    "names = []\n",
    "names.extend((name1, name2, name3, name4, name5))\n",
    "print(names)"
   ]
  },
  {
   "cell_type": "markdown",
   "metadata": {},
   "source": [
    "### Exercise 2\n",
    "Print out a randomly selected name in the names list."
   ]
  },
  {
   "cell_type": "code",
   "execution_count": 7,
   "metadata": {},
   "outputs": [
    {
     "name": "stdout",
     "output_type": "stream",
     "text": [
      "asdfkj\n"
     ]
    }
   ],
   "source": [
    "import random as rand\n",
    "randNum = rand.randint(0,5)\n",
    "print(names[randNum])"
   ]
  },
  {
   "cell_type": "markdown",
   "metadata": {},
   "source": [
    "### Exercise 3\n",
    "\n",
    "Ask a user for a specific color and store that value into a variable. If the answer is gray, print \"You found Victor's favorite color!\". If the answer is anything besides gray, print \"[color name] is not Victor's favorite color.\""
   ]
  },
  {
   "cell_type": "code",
   "execution_count": 8,
   "metadata": {},
   "outputs": [
    {
     "name": "stdin",
     "output_type": "stream",
     "text": [
      "What's your favorite color?  blue\n"
     ]
    },
    {
     "name": "stdout",
     "output_type": "stream",
     "text": [
      "blue is not Victor's favorite color.\n"
     ]
    }
   ],
   "source": [
    "color = input(\"What's your favorite color? \")\n",
    "if color == 'gray':\n",
    "    print(\"You found Victor's favorite color!\")\n",
    "else:\n",
    "    print(f\"{color} is not Victor's favorite color.\")\n",
    "    "
   ]
  },
  {
   "cell_type": "markdown",
   "metadata": {},
   "source": [
    "### Exercise 4\n",
    "Ask for an exam score and store that number. If the number is greater than 100, then print out 'You cannot have an exam score higher than 100'. If the number doesn't exceeed 100 but is greater than or equal to 75, then print out 'You did great on your exam!'. Otherwise if they scored lower than 75, then print out 'You need to study harder'."
   ]
  },
  {
   "cell_type": "code",
   "execution_count": 11,
   "metadata": {},
   "outputs": [
    {
     "name": "stdin",
     "output_type": "stream",
     "text": [
      "What was your exam score?  67\n"
     ]
    },
    {
     "name": "stdout",
     "output_type": "stream",
     "text": [
      "Ouch, you might need to study harder.\n"
     ]
    }
   ],
   "source": [
    "score = int(input(\"What was your exam score? \"))\n",
    "\n",
    "if score > 100:\n",
    "    print(\"Liar liar pants on fire. You can't have an exam score higher than 100.\")\n",
    "elif score >= 75:\n",
    "    print(\"You did great on your exam!\")\n",
    "else:\n",
    "    print(\"Ouch, you might need to study harder.\")"
   ]
  },
  {
   "cell_type": "markdown",
   "metadata": {},
   "source": [
    "### Exercise 5\n",
    "Write a function to convert a test score to a grade where  \n",
    " - 90 - 100: A\n",
    " - 80 - 89:  B\n",
    " - 70 - 79:  C\n",
    " - 60 - 69:  D\n",
    " - < 60   :  F\n",
    " \n",
    "If a score is not between 0 and 100 then print out an error message. In the program, ask the user for a score and then call your function. "
   ]
  },
  {
   "cell_type": "code",
   "execution_count": 22,
   "metadata": {},
   "outputs": [
    {
     "name": "stdin",
     "output_type": "stream",
     "text": [
      "What was your exam score?  82\n"
     ]
    },
    {
     "name": "stdout",
     "output_type": "stream",
     "text": [
      "It is a B.\n"
     ]
    }
   ],
   "source": [
    "\n",
    "# if score > 100:\n",
    "#     print(\"This is not a valid score to convert.\")\n",
    "def convertScore():\n",
    "    score = int(input(\"What was your exam score? \"))\n",
    "\n",
    "    if score > 100 or score < 0:\n",
    "        print(\"This is not a valid score to convert.\")\n",
    "    elif score >= 90:\n",
    "        print(\"It is an A.\")\n",
    "    elif score >= 80:\n",
    "        print(\"It is a B.\")\n",
    "    elif score >= 70:\n",
    "        print(\"It is a C.\")\n",
    "    elif score >= 60:\n",
    "        print(\"It is a D.\")\n",
    "    elif score >= 0:\n",
    "        print(\"It is an F.\")\n",
    "\n",
    "convertScore()"
   ]
  },
  {
   "cell_type": "code",
   "execution_count": null,
   "metadata": {},
   "outputs": [],
   "source": []
  }
 ],
 "metadata": {
  "kernelspec": {
   "display_name": "Python 3 (ipykernel)",
   "language": "python",
   "name": "python3"
  },
  "language_info": {
   "codemirror_mode": {
    "name": "ipython",
    "version": 3
   },
   "file_extension": ".py",
   "mimetype": "text/x-python",
   "name": "python",
   "nbconvert_exporter": "python",
   "pygments_lexer": "ipython3",
   "version": "3.11.7"
  }
 },
 "nbformat": 4,
 "nbformat_minor": 4
}

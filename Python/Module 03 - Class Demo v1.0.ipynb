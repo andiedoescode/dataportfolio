{
 "cells": [
  {
   "cell_type": "markdown",
   "id": "24847a9b",
   "metadata": {},
   "source": [
    "### Comparison Operators & Boolean Operators\n",
    "\n",
    "Comparison operators compare the values/statements on either side of the operator and decide the relation amoung them. These operators typically return a TRUE or FALSE value depending on the relationship between the values. Boolean operators return TRUE or FALSE to a statement depending on if the statement if factual. "
   ]
  },
  {
   "cell_type": "code",
   "execution_count": 1,
   "id": "075ef2e2",
   "metadata": {},
   "outputs": [
    {
     "data": {
      "text/plain": [
       "False"
      ]
     },
     "execution_count": 1,
     "metadata": {},
     "output_type": "execute_result"
    }
   ],
   "source": [
    "## testing a statement \n",
    "\n",
    "123 < 123.0"
   ]
  },
  {
   "cell_type": "code",
   "execution_count": 3,
   "id": "7180b35f",
   "metadata": {},
   "outputs": [],
   "source": [
    "## \"123\" < 123"
   ]
  },
  {
   "cell_type": "code",
   "execution_count": 4,
   "id": "3f092431",
   "metadata": {},
   "outputs": [
    {
     "data": {
      "text/plain": [
       "False"
      ]
     },
     "execution_count": 4,
     "metadata": {},
     "output_type": "execute_result"
    }
   ],
   "source": [
    "## testing string statements\n",
    "\n",
    "\"message\" < \"mess\""
   ]
  },
  {
   "cell_type": "code",
   "execution_count": 5,
   "id": "0cf1fd39",
   "metadata": {},
   "outputs": [
    {
     "data": {
      "text/plain": [
       "True"
      ]
     },
     "execution_count": 5,
     "metadata": {},
     "output_type": "execute_result"
    }
   ],
   "source": [
    "## using the 'greater than or equal to' operator\n",
    "\n",
    "150 >= 100"
   ]
  },
  {
   "cell_type": "code",
   "execution_count": 6,
   "id": "4ea74224",
   "metadata": {},
   "outputs": [
    {
     "data": {
      "text/plain": [
       "True"
      ]
     },
     "execution_count": 6,
     "metadata": {},
     "output_type": "execute_result"
    }
   ],
   "source": [
    "## using the 'less than or equal to' operator\n",
    "\n",
    "6 <= 6.5"
   ]
  },
  {
   "cell_type": "code",
   "execution_count": 5,
   "id": "786fc995",
   "metadata": {},
   "outputs": [
    {
     "data": {
      "text/plain": [
       "True"
      ]
     },
     "execution_count": 5,
     "metadata": {},
     "output_type": "execute_result"
    }
   ],
   "source": [
    "## the \"in\" statement checks if a value is within a specific expression\n",
    "\n",
    "\"pie\" in \"apple pie\""
   ]
  },
  {
   "cell_type": "code",
   "execution_count": 6,
   "id": "0031759a",
   "metadata": {},
   "outputs": [
    {
     "data": {
      "text/plain": [
       "False"
      ]
     },
     "execution_count": 6,
     "metadata": {},
     "output_type": "execute_result"
    }
   ],
   "source": [
    "## the \"not in\" statement checks if a value is not included within a specific expression\n",
    "\n",
    "\"in\" not in \"be careful in uncertain situations\""
   ]
  },
  {
   "cell_type": "code",
   "execution_count": 12,
   "id": "60b52779",
   "metadata": {},
   "outputs": [
    {
     "data": {
      "text/plain": [
       "True"
      ]
     },
     "execution_count": 12,
     "metadata": {},
     "output_type": "execute_result"
    }
   ],
   "source": [
    "## the \"equal\" statement is denoted by double equal signs\n",
    "\n",
    "age = 17 ## assignment (=)\n",
    "\n",
    "## testing a statement\n",
    "\n",
    "age == 16 ## checking for equality (==)"
   ]
  },
  {
   "cell_type": "code",
   "execution_count": 13,
   "id": "ed34f51a",
   "metadata": {},
   "outputs": [
    {
     "data": {
      "text/plain": [
       "True"
      ]
     },
     "execution_count": 13,
     "metadata": {},
     "output_type": "execute_result"
    }
   ],
   "source": [
    "## \"not equal\" is denoted by \"!=\"\n",
    "\n",
    "age != 35"
   ]
  },
  {
   "cell_type": "code",
   "execution_count": 7,
   "id": "007a2326",
   "metadata": {},
   "outputs": [
    {
     "data": {
      "text/plain": [
       "True"
      ]
     },
     "execution_count": 7,
     "metadata": {},
     "output_type": "execute_result"
    }
   ],
   "source": [
    "city = \"Rockville\"\n",
    "\n",
    "## testing a statement\n",
    "\n",
    "city != \"Gaithersburg\""
   ]
  },
  {
   "cell_type": "code",
   "execution_count": 15,
   "id": "b5286f7f",
   "metadata": {},
   "outputs": [
    {
     "name": "stdout",
     "output_type": "stream",
     "text": [
      "17\n",
      "Rockville\n"
     ]
    }
   ],
   "source": [
    "print(age)\n",
    "print(city)"
   ]
  },
  {
   "cell_type": "code",
   "execution_count": 18,
   "id": "0dae8476",
   "metadata": {},
   "outputs": [
    {
     "data": {
      "text/plain": [
       "False"
      ]
     },
     "execution_count": 18,
     "metadata": {},
     "output_type": "execute_result"
    }
   ],
   "source": [
    "## testing statements using \"and\"\n",
    "\n",
    "age >= 7 and city == \"Gaithersburg\"\n",
    "\n",
    "## for this to return true, BOTH statements must be true"
   ]
  },
  {
   "cell_type": "code",
   "execution_count": 19,
   "id": "740e707f",
   "metadata": {},
   "outputs": [
    {
     "data": {
      "text/plain": [
       "True"
      ]
     },
     "execution_count": 19,
     "metadata": {},
     "output_type": "execute_result"
    }
   ],
   "source": [
    "## testing statements using \"or\"\n",
    "\n",
    "age < 10 or city == \"Rockville\"\n",
    "\n",
    "## for this to return true, AT LEAST ONE statement must be true"
   ]
  },
  {
   "cell_type": "markdown",
   "id": "d4231052",
   "metadata": {},
   "source": [
    "#### Exercise #1:\n",
    "\n",
    "Create a series of comparison statements that result in the following results:\n",
    "\n",
    "        True\n",
    "        False\n",
    "        False\n",
    "        True\n",
    "        True\n",
    "        False\n",
    "Each statement should use different values/numbers/strings. Be creative!"
   ]
  },
  {
   "cell_type": "code",
   "execution_count": 12,
   "id": "ae39799a",
   "metadata": {},
   "outputs": [
    {
     "data": {
      "text/plain": [
       "False"
      ]
     },
     "execution_count": 12,
     "metadata": {},
     "output_type": "execute_result"
    }
   ],
   "source": [
    "len(\"Hello\") > len(\"Bye\")"
   ]
  },
  {
   "cell_type": "code",
   "execution_count": 11,
   "id": "902e42c7",
   "metadata": {},
   "outputs": [
    {
     "data": {
      "text/plain": [
       "False"
      ]
     },
     "execution_count": 11,
     "metadata": {},
     "output_type": "execute_result"
    }
   ],
   "source": [
    "color = \"195\"\n",
    "num = 195\n",
    "\n",
    "color == num"
   ]
  },
  {
   "cell_type": "code",
   "execution_count": 14,
   "id": "de8bbd8d-14ff-4586-9d59-731389b4e09b",
   "metadata": {},
   "outputs": [
    {
     "data": {
      "text/plain": [
       "False"
      ]
     },
     "execution_count": 14,
     "metadata": {},
     "output_type": "execute_result"
    }
   ],
   "source": [
    "\"spicy\" not in \"Indian food can be spicy.\""
   ]
  },
  {
   "cell_type": "code",
   "execution_count": 17,
   "id": "6c6213d2-5fec-418d-8a67-929c67069cb8",
   "metadata": {},
   "outputs": [
    {
     "data": {
      "text/plain": [
       "True"
      ]
     },
     "execution_count": 17,
     "metadata": {},
     "output_type": "execute_result"
    }
   ],
   "source": [
    "hobby = \"cross stitch\"\n",
    "anotherHobby = \"embroidery\"\n",
    "\n",
    "hobby == \"cross stitch\" or anotherHobby == \"cross stitch\""
   ]
  },
  {
   "cell_type": "code",
   "execution_count": 18,
   "id": "411f4902-7df5-4c7c-af68-918084b88af1",
   "metadata": {},
   "outputs": [
    {
     "data": {
      "text/plain": [
       "True"
      ]
     },
     "execution_count": 18,
     "metadata": {},
     "output_type": "execute_result"
    }
   ],
   "source": [
    "ticketPrice = 89.0\n",
    "\n",
    "ticketPrice >= 89"
   ]
  },
  {
   "cell_type": "code",
   "execution_count": 22,
   "id": "0e889ff3-6312-40be-92a7-c54a4b5c0d19",
   "metadata": {},
   "outputs": [
    {
     "data": {
      "text/plain": [
       "False"
      ]
     },
     "execution_count": 22,
     "metadata": {},
     "output_type": "execute_result"
    }
   ],
   "source": [
    "isBored = True\n",
    "\n",
    "isBored != True"
   ]
  },
  {
   "cell_type": "markdown",
   "id": "9775fdae",
   "metadata": {},
   "source": [
    "### Conditional Statements\n",
    "\n",
    "Using the IF, ELSE, and ELIF statements, you can execute a series of tasks dependent on the value of an expression. For example, IF x = 10, print \"x is 10\"; ELSE print \"x is not 10\". "
   ]
  },
  {
   "cell_type": "markdown",
   "id": "3c3d50ec",
   "metadata": {},
   "source": [
    "#### IF statement \n",
    "\n",
    "Checks for a specific value; if that statement is true execute a specific step"
   ]
  },
  {
   "cell_type": "code",
   "execution_count": 24,
   "id": "91c340b5",
   "metadata": {},
   "outputs": [],
   "source": [
    "age = 16\n",
    "\n",
    "if age >= 18: \n",
    "    print(\"You may vote.\")"
   ]
  },
  {
   "cell_type": "code",
   "execution_count": 25,
   "id": "31f0a3a2",
   "metadata": {},
   "outputs": [
    {
     "name": "stdout",
     "output_type": "stream",
     "text": [
      "You may vote.\n"
     ]
    }
   ],
   "source": [
    "age = 57\n",
    "\n",
    "if age >= 18:\n",
    "    print(\"You may vote.\")"
   ]
  },
  {
   "cell_type": "code",
   "execution_count": 26,
   "id": "a70b8402",
   "metadata": {},
   "outputs": [
    {
     "name": "stdout",
     "output_type": "stream",
     "text": [
      "Hello, Bob!\n"
     ]
    }
   ],
   "source": [
    "name = \"Bob\"\n",
    "\n",
    "if name == \"Bob\":\n",
    "    print(\"Hello, Bob!\")"
   ]
  },
  {
   "cell_type": "markdown",
   "id": "ea70ff09",
   "metadata": {},
   "source": [
    "#### IF/ELSE statement \n",
    "\n",
    "Checks for a specific value; if that statement is true execute a specific step and if that statement is not true, execute another step"
   ]
  },
  {
   "cell_type": "code",
   "execution_count": 27,
   "id": "e707ad0b",
   "metadata": {},
   "outputs": [
    {
     "name": "stdout",
     "output_type": "stream",
     "text": [
      "You may vote.\n"
     ]
    }
   ],
   "source": [
    "age = 26\n",
    "\n",
    "if age >= 18:\n",
    "    print(\"You may vote.\")\n",
    "else: \n",
    "    print(\"You are too young to vote.\")\n",
    "    print(f\"Come back in {18 - age} years!\")"
   ]
  },
  {
   "cell_type": "code",
   "execution_count": 28,
   "id": "756f049a",
   "metadata": {},
   "outputs": [
    {
     "name": "stdout",
     "output_type": "stream",
     "text": [
      "You are too young to vote.\n",
      "Come back in 8 years!\n"
     ]
    }
   ],
   "source": [
    "age = 10\n",
    "\n",
    "if age >= 18:\n",
    "    print(\"You may vote.\")\n",
    "else: \n",
    "    print(\"You are too young to vote.\")\n",
    "    print(f\"Come back in {18 - age} years!\")"
   ]
  },
  {
   "cell_type": "code",
   "execution_count": 29,
   "id": "6be62fdf",
   "metadata": {
    "scrolled": true
   },
   "outputs": [
    {
     "name": "stdout",
     "output_type": "stream",
     "text": [
      "You are too young to vote.\n",
      "Come back in 1 years!\n"
     ]
    }
   ],
   "source": [
    "## define a function using IF/ELSE statements\n",
    "\n",
    "def check_age(age):\n",
    "    if age >= 18:\n",
    "        print(\"You may vote.\")\n",
    "    else:\n",
    "        print(\"You are too young to vote.\")\n",
    "        print(f\"Come back in {18 - age} years!\")\n",
    "        \n",
    "## apply this function \n",
    "\n",
    "age = 17\n",
    "\n",
    "check_age(age)"
   ]
  },
  {
   "cell_type": "code",
   "execution_count": 31,
   "id": "5b467397",
   "metadata": {
    "scrolled": true
   },
   "outputs": [
    {
     "name": "stdin",
     "output_type": "stream",
     "text": [
      "What grade did you get? 68\n"
     ]
    },
    {
     "name": "stdout",
     "output_type": "stream",
     "text": [
      "You failed.\n"
     ]
    }
   ],
   "source": [
    "## define a function using IF/ELSE statements\n",
    "\n",
    "def check_grade (score):\n",
    "    if grade >= 75:\n",
    "        print(\"You passed!\")\n",
    "    else:\n",
    "        print(\"You failed.\")\n",
    "        \n",
    "## apply this function\n",
    "\n",
    "grade = float(input(\"What grade did you get?\"))\n",
    "\n",
    "check_grade(grade)"
   ]
  },
  {
   "cell_type": "markdown",
   "id": "cb910922",
   "metadata": {},
   "source": [
    "#### IF/ELIF statement \n",
    "\n",
    "The ELIF statement is short for \"Else If\"; it allows you to check for multiple conditional statements. If the condition for the IF is false - it then checks the condition of the next ELIF section. If all IF/ELIF statements are false - you can use an ELSE statement to execute a final command. ELSE can be used as a catch all when nothing else applies. "
   ]
  },
  {
   "cell_type": "code",
   "execution_count": 33,
   "id": "640fe2e9",
   "metadata": {
    "scrolled": true
   },
   "outputs": [
    {
     "name": "stdout",
     "output_type": "stream",
     "text": [
      "Stop!!\n"
     ]
    }
   ],
   "source": [
    "## What to do when you come to a stoplight?\n",
    "\n",
    "# light_color = \"green\"\n",
    "# light_color = \"yellow\"\n",
    "light_color = \"red\"\n",
    "# light_color = \"blue\"\n",
    "\n",
    "#####\n",
    "\n",
    "if light_color == \"green\":\n",
    "    print(\"Go!\")\n",
    "elif light_color == \"yellow\":\n",
    "    print(\"Slow Down...\")\n",
    "elif light_color == \"red\":\n",
    "    print(\"Stop!!\")\n",
    "else:\n",
    "    print(\"Maybe you should get your eyes checked...\")"
   ]
  },
  {
   "cell_type": "code",
   "execution_count": 34,
   "id": "1e2c605e",
   "metadata": {},
   "outputs": [
    {
     "name": "stdout",
     "output_type": "stream",
     "text": [
      "The light is green\n",
      "Go!\n",
      "The light is yellow\n",
      "Slow Down...\n",
      "The light is purple\n",
      "Maybe you should get your eyes checked...\n"
     ]
    }
   ],
   "source": [
    "## define a function that prints a statement depending on the color of a traffic light\n",
    "\n",
    "def traffic_light(color):\n",
    "    print(f\"The light is {color}\")\n",
    "    ###\n",
    "    if color == \"green\":\n",
    "        print(\"Go!\")\n",
    "    elif color == \"yellow\":\n",
    "        print(\"Slow Down...\")\n",
    "    elif color == \"red\":\n",
    "        print(\"Stop!!\")\n",
    "    else:\n",
    "        print(\"Maybe you should get your eyes checked...\")\n",
    "        \n",
    "## apply the function\n",
    "\n",
    "traffic_light(\"green\")\n",
    "traffic_light(\"yellow\")\n",
    "traffic_light(\"purple\")"
   ]
  },
  {
   "cell_type": "code",
   "execution_count": 35,
   "id": "b0d8aa30",
   "metadata": {},
   "outputs": [
    {
     "name": "stdout",
     "output_type": "stream",
     "text": [
      "Kindergarten\n",
      "Adult\n",
      "Elementary School\n",
      "High School\n"
     ]
    }
   ],
   "source": [
    "## why can't we just use a series of IF/ELSE statements?\n",
    "\n",
    "# only IF/ELSE statements\n",
    "\n",
    "def school(age) :\n",
    "    if age < 7 :\n",
    "        print(\"Kindergarten\")\n",
    "    else : \n",
    "        if age < 13 :\n",
    "            print (\"Elementary School\")\n",
    "        else :\n",
    "            if age < 15 :\n",
    "                print (\"Middle School\")\n",
    "            else :\n",
    "                if age < 19 :\n",
    "                    print(\"High School\")\n",
    "                else :\n",
    "                    print(\"Adult\")\n",
    "                    \n",
    "## apply the function\n",
    "\n",
    "school(6)\n",
    "school(26)\n",
    "school(12)\n",
    "school(16)"
   ]
  },
  {
   "cell_type": "code",
   "execution_count": 36,
   "id": "c2156a00",
   "metadata": {},
   "outputs": [
    {
     "name": "stdout",
     "output_type": "stream",
     "text": [
      "Kindergarten\n",
      "Adult\n",
      "Elementary School\n",
      "High School\n"
     ]
    }
   ],
   "source": [
    "# replace the IF/ELSE statements with ELIF for a cleaner code\n",
    "\n",
    "def school2(age) :\n",
    "    if age < 7 :\n",
    "        print(\"Kindergarten\")\n",
    "    elif age < 13 :\n",
    "        print (\"Elementary School\")\n",
    "    elif age < 15 :\n",
    "        print (\"Middle School\")\n",
    "    elif age < 19 :\n",
    "        print(\"High School\")\n",
    "    else :\n",
    "        print(\"Adult\")\n",
    "        \n",
    "## apply the function\n",
    "\n",
    "school2(6)\n",
    "school2(26)\n",
    "school2(12)\n",
    "school2(16)"
   ]
  },
  {
   "cell_type": "markdown",
   "id": "590517ed",
   "metadata": {},
   "source": [
    "#### Exercise #2:\n",
    "\n",
    "Your team is tasked to write a function that suggests a beverage based on an age. The beverage options are milk, beer, and soda. \n",
    "\n",
    "Define a function that uses conditional statements. If a person is of (or between) a certain age, the beverage they will be suggested will be one of the three specific options. At the end of your function, return a sentance that says which beverage this individual should be suggested. \n",
    "\n",
    "Next, apply your function three times using three different ages input by a user. "
   ]
  },
  {
   "cell_type": "code",
   "execution_count": 43,
   "id": "6b76c94e",
   "metadata": {},
   "outputs": [
    {
     "name": "stdin",
     "output_type": "stream",
     "text": [
      "Please enter your age:  13\n"
     ]
    },
    {
     "name": "stdout",
     "output_type": "stream",
     "text": [
      "You should have some soda!\n"
     ]
    }
   ],
   "source": [
    "## define function\n",
    "def suggest_bev():\n",
    "    age = int(input(\"Please enter your age: \"))\n",
    "    if age > 30:\n",
    "        print(\"You should have some beer!\")\n",
    "    elif age > 10:\n",
    "        print(\"You should have some soda!\")\n",
    "    else:\n",
    "        print(\"You should have some milk!\")\n",
    "\n",
    "suggest_bev()"
   ]
  },
  {
   "cell_type": "code",
   "execution_count": 60,
   "id": "b7684c7b",
   "metadata": {},
   "outputs": [
    {
     "name": "stdout",
     "output_type": "stream",
     "text": [
      "Please enter your age: 34\n"
     ]
    },
    {
     "data": {
      "text/plain": [
       "'You should have some beer!'"
      ]
     },
     "execution_count": 60,
     "metadata": {},
     "output_type": "execute_result"
    }
   ],
   "source": []
  },
  {
   "cell_type": "code",
   "execution_count": 61,
   "id": "7d937e42",
   "metadata": {},
   "outputs": [
    {
     "name": "stdout",
     "output_type": "stream",
     "text": [
      "Please enter your age: 4\n"
     ]
    },
    {
     "data": {
      "text/plain": [
       "'You should have some milk!'"
      ]
     },
     "execution_count": 61,
     "metadata": {},
     "output_type": "execute_result"
    }
   ],
   "source": []
  },
  {
   "cell_type": "code",
   "execution_count": 62,
   "id": "32eca7d1",
   "metadata": {},
   "outputs": [
    {
     "name": "stdout",
     "output_type": "stream",
     "text": [
      "Please enter your age: 13\n"
     ]
    },
    {
     "data": {
      "text/plain": [
       "'You should have some soda!'"
      ]
     },
     "execution_count": 62,
     "metadata": {},
     "output_type": "execute_result"
    }
   ],
   "source": []
  },
  {
   "cell_type": "markdown",
   "id": "0d9c9be1",
   "metadata": {},
   "source": [
    "### Lists and List Methods\n",
    "\n",
    "Within Python, Lists are a unique data type that is used to store multiple items in a single variable. Lists commonly contain the same data type within the list, but lists are capable of holding multiple different data types all together. Lists are defined by square brackets. "
   ]
  },
  {
   "cell_type": "code",
   "execution_count": 44,
   "id": "a9ab05ad",
   "metadata": {},
   "outputs": [
    {
     "name": "stdout",
     "output_type": "stream",
     "text": [
      "['red-0', 'yellow-1', 'blue-2', 'purple-3', 'orange-4', 'black-5', 'green-6', 'brown-7', 'pink-8']\n"
     ]
    }
   ],
   "source": [
    "## create a list of colors\n",
    "\n",
    "colors = [\"red-0\", \"yellow-1\", \"blue-2\", \"purple-3\", \"orange-4\", \"black-5\", \"green-6\", \"brown-7\", \"pink-8\"]\n",
    "\n",
    "## print out list\n",
    "\n",
    "print(colors)"
   ]
  },
  {
   "cell_type": "markdown",
   "id": "c8e292ca",
   "metadata": {},
   "source": [
    "#### Indexing a List\n",
    "\n",
    "Determine the location of a specific value within a list. "
   ]
  },
  {
   "cell_type": "code",
   "execution_count": 45,
   "id": "c189263a",
   "metadata": {},
   "outputs": [
    {
     "name": "stdout",
     "output_type": "stream",
     "text": [
      "['red-0', 'yellow-1', 'blue-2', 'purple-3', 'orange-4', 'black-5', 'green-6', 'brown-7', 'pink-8']\n"
     ]
    },
    {
     "data": {
      "text/plain": [
       "'red-0'"
      ]
     },
     "execution_count": 45,
     "metadata": {},
     "output_type": "execute_result"
    }
   ],
   "source": [
    "print(colors)\n",
    "\n",
    "###\n",
    "\n",
    "colors[0] ## what item in the list is in position \"0\"?"
   ]
  },
  {
   "cell_type": "code",
   "execution_count": 68,
   "id": "b4bb577a",
   "metadata": {},
   "outputs": [
    {
     "name": "stdout",
     "output_type": "stream",
     "text": [
      "yellow-1\n",
      "orange-4\n"
     ]
    }
   ],
   "source": [
    "## what colors are in position 1 and position 4\n",
    "\n",
    "print(colors[1])\n",
    "print(colors[4])"
   ]
  },
  {
   "cell_type": "code",
   "execution_count": 70,
   "id": "afb0c229",
   "metadata": {},
   "outputs": [
    {
     "data": {
      "text/plain": [
       "3"
      ]
     },
     "execution_count": 70,
     "metadata": {},
     "output_type": "execute_result"
    }
   ],
   "source": [
    "## you can also use the index method to identify the position of a specific value\n",
    "\n",
    "colors.index(\"purple-3\")"
   ]
  },
  {
   "cell_type": "markdown",
   "id": "73dd5b8c",
   "metadata": {},
   "source": [
    "#### Slicing a List\n",
    "\n",
    "Return a list from a starting point up to an ending point. "
   ]
  },
  {
   "cell_type": "code",
   "execution_count": 46,
   "id": "e0f2ac78",
   "metadata": {},
   "outputs": [
    {
     "name": "stdout",
     "output_type": "stream",
     "text": [
      "['red-0', 'yellow-1', 'blue-2', 'purple-3', 'orange-4', 'black-5', 'green-6', 'brown-7', 'pink-8']\n"
     ]
    },
    {
     "data": {
      "text/plain": [
       "['red-0',\n",
       " 'yellow-1',\n",
       " 'blue-2',\n",
       " 'purple-3',\n",
       " 'orange-4',\n",
       " 'black-5',\n",
       " 'green-6',\n",
       " 'brown-7',\n",
       " 'pink-8']"
      ]
     },
     "execution_count": 46,
     "metadata": {},
     "output_type": "execute_result"
    }
   ],
   "source": [
    "print(colors)\n",
    "\n",
    "###\n",
    "\n",
    "## [starting point : ending point]\n",
    "\n",
    "colors[0:9]\n",
    "\n",
    "## when slicing numbers are {inclusive : exclusive}"
   ]
  },
  {
   "cell_type": "code",
   "execution_count": 47,
   "id": "b37a0b2c",
   "metadata": {},
   "outputs": [
    {
     "data": {
      "text/plain": [
       "['yellow-1',\n",
       " 'blue-2',\n",
       " 'purple-3',\n",
       " 'orange-4',\n",
       " 'black-5',\n",
       " 'green-6',\n",
       " 'brown-7',\n",
       " 'pink-8']"
      ]
     },
     "execution_count": 47,
     "metadata": {},
     "output_type": "execute_result"
    }
   ],
   "source": [
    "## print everything n-value onward\n",
    "\n",
    "colors[1:]"
   ]
  },
  {
   "cell_type": "code",
   "execution_count": 48,
   "id": "b91d678f",
   "metadata": {},
   "outputs": [
    {
     "data": {
      "text/plain": [
       "'green-6'"
      ]
     },
     "execution_count": 48,
     "metadata": {},
     "output_type": "execute_result"
    }
   ],
   "source": [
    "## print the n-last item in the list; starting from the end\n",
    "\n",
    "colors[-3]"
   ]
  },
  {
   "cell_type": "code",
   "execution_count": 49,
   "id": "ed7ad254",
   "metadata": {},
   "outputs": [
    {
     "data": {
      "text/plain": [
       "['red-0',\n",
       " 'yellow-1',\n",
       " 'blue-2',\n",
       " 'purple-3',\n",
       " 'orange-4',\n",
       " 'black-5',\n",
       " 'green-6',\n",
       " 'brown-7']"
      ]
     },
     "execution_count": 49,
     "metadata": {},
     "output_type": "execute_result"
    }
   ],
   "source": [
    "## return everything except the n-last value\n",
    "\n",
    "colors[:-1]"
   ]
  },
  {
   "cell_type": "code",
   "execution_count": 50,
   "id": "4273ca7a",
   "metadata": {},
   "outputs": [
    {
     "data": {
      "text/plain": [
       "['pink-8',\n",
       " 'brown-7',\n",
       " 'green-6',\n",
       " 'black-5',\n",
       " 'orange-4',\n",
       " 'purple-3',\n",
       " 'blue-2',\n",
       " 'yellow-1',\n",
       " 'red-0']"
      ]
     },
     "execution_count": 50,
     "metadata": {},
     "output_type": "execute_result"
    }
   ],
   "source": [
    "## return the list in reverse order\n",
    "\n",
    "colors[::-1]"
   ]
  },
  {
   "cell_type": "markdown",
   "id": "22d28b03",
   "metadata": {},
   "source": [
    "### List Methods \n",
    "\n",
    "Methods are similar to functions but they are exclusively used with a specific data type. List methods are functions that are only used with lists. "
   ]
  },
  {
   "cell_type": "markdown",
   "id": "aafb6aa3",
   "metadata": {},
   "source": [
    "Creating Lists"
   ]
  },
  {
   "cell_type": "code",
   "execution_count": 51,
   "id": "288d4080",
   "metadata": {},
   "outputs": [],
   "source": [
    "## creating a list\n",
    "\n",
    "# empty list\n",
    "\n",
    "shopping = []\n",
    "\n",
    "# series of 0's\n",
    "\n",
    "score = [0] * 10\n",
    "\n",
    "# series of characters\n",
    "\n",
    "grade = [\"B\"] * 3"
   ]
  },
  {
   "cell_type": "code",
   "execution_count": 97,
   "id": "2fb7f91b",
   "metadata": {},
   "outputs": [
    {
     "name": "stdout",
     "output_type": "stream",
     "text": [
      "[]\n",
      "[0, 0, 0, 0, 0, 0, 0, 0, 0, 0]\n",
      "['B', 'B', 'B']\n"
     ]
    }
   ],
   "source": [
    "## print the lists created \n",
    "\n",
    "print(shopping)\n",
    "print(score)\n",
    "print(grade)"
   ]
  },
  {
   "cell_type": "markdown",
   "id": "3663430f",
   "metadata": {},
   "source": [
    "List Length"
   ]
  },
  {
   "cell_type": "code",
   "execution_count": 98,
   "id": "07f1ee16",
   "metadata": {},
   "outputs": [
    {
     "name": "stdout",
     "output_type": "stream",
     "text": [
      "0\n",
      "10\n",
      "3\n"
     ]
    }
   ],
   "source": [
    "## check the length of each list\n",
    "\n",
    "print(len(shopping))\n",
    "print(len(score))\n",
    "print(len(grade))"
   ]
  },
  {
   "cell_type": "markdown",
   "id": "83f3b1bb",
   "metadata": {},
   "source": [
    "Spliting Values into List"
   ]
  },
  {
   "cell_type": "code",
   "execution_count": 55,
   "id": "a30538b2",
   "metadata": {},
   "outputs": [
    {
     "name": "stdout",
     "output_type": "stream",
     "text": [
      "['red-0', 'yellow-1', 'blue-2', 'purple-3', 'orange-4', 'black-5', 'green-6', 'brown-7', 'pink-8']\n"
     ]
    }
   ],
   "source": [
    "## split a string into a list of values\n",
    "\n",
    "color_string = 'red-0 yellow-1 blue-2 purple-3 orange-4 black-5 green-6 brown-7 pink-8'\n",
    "\n",
    "#\n",
    "\n",
    "colors_split = color_string.split()\n",
    "\n",
    "#\n",
    "\n",
    "print(colors_split)"
   ]
  },
  {
   "cell_type": "code",
   "execution_count": 56,
   "id": "f7d2e1ea",
   "metadata": {},
   "outputs": [
    {
     "name": "stdout",
     "output_type": "stream",
     "text": [
      "['red-0 yellow-1 ', '-2 purple-3 orange-4 black-5 green-6 brown-7 pink-8']\n",
      "['red', '0 yellow', '1 blue', '2 purple', '3 orange', '4 black', '5 green', '6 brown', '7 pink', '8']\n",
      "['red', '0 yellow-1 blue-2 purple-3 orange-4 black-5 green-6 brown-7 pink-8']\n"
     ]
    }
   ],
   "source": [
    "## split at a specific value\n",
    "\n",
    "colors_split_blue = color_string.split(\"blue\")\n",
    "print(colors_split_blue)\n",
    "\n",
    "## split at a repeating value\n",
    "\n",
    "colors_split_dash = color_string.split(\"-\")\n",
    "print(colors_split_dash)\n",
    "\n",
    "## split at a repeating value n-times\n",
    "\n",
    "colors_split_dash_2 = color_string.split(\"-\", 1)\n",
    "print(colors_split_dash_2)"
   ]
  },
  {
   "cell_type": "markdown",
   "id": "5c37c1d1",
   "metadata": {},
   "source": [
    "Append (or add) Values to List"
   ]
  },
  {
   "cell_type": "code",
   "execution_count": 108,
   "id": "6f48a100",
   "metadata": {},
   "outputs": [
    {
     "name": "stdout",
     "output_type": "stream",
     "text": [
      "['red-0', 'yellow-1', 'blue-2', 'purple-3', 'orange-4', 'black-5', 'green-6', 'brown-7', 'pink-8']\n",
      "['red-0', 'yellow-1', 'blue-2', 'purple-3', 'orange-4', 'black-5', 'green-6', 'brown-7', 'pink-8', 'white-9']\n"
     ]
    }
   ],
   "source": [
    "## append a list (add information to a list)\n",
    "\n",
    "print(colors)\n",
    "\n",
    "# add one additional item to a list\n",
    "\n",
    "colors.append(\"white-9\")\n",
    "\n",
    "# print new list\n",
    "\n",
    "print(colors)"
   ]
  },
  {
   "cell_type": "code",
   "execution_count": 102,
   "id": "2c22538f",
   "metadata": {},
   "outputs": [
    {
     "name": "stdout",
     "output_type": "stream",
     "text": [
      "Enter a letter: a\n",
      "Enter a letter: b\n",
      "Enter a letter: c\n",
      "['a', 'b', 'c']\n"
     ]
    }
   ],
   "source": [
    "## append multiple items to a list \n",
    "\n",
    "letters = [] # empty list\n",
    "\n",
    "letters.append(input(\"Enter a letter: \"))\n",
    "letters.append(input(\"Enter a letter: \"))\n",
    "letters.append(input(\"Enter a letter: \"))\n",
    "\n",
    "print(letters)"
   ]
  },
  {
   "cell_type": "markdown",
   "id": "2cc98329",
   "metadata": {},
   "source": [
    "Insert Value into List at Specific Location"
   ]
  },
  {
   "cell_type": "code",
   "execution_count": 57,
   "id": "dd1a3f7b",
   "metadata": {},
   "outputs": [
    {
     "name": "stdout",
     "output_type": "stream",
     "text": [
      "['red-0', 'yellow-1', 'blue-2', 'purple-3', 'orange-4', 'black-5', 'green-6', 'brown-7', 'pink-8']\n",
      "['red-0', 'lilac-10', 'yellow-1', 'blue-2', 'purple-3', 'orange-4', 'black-5', 'green-6', 'brown-7', 'pink-8']\n"
     ]
    }
   ],
   "source": [
    "## insert information into a list at a specific position\n",
    "\n",
    "print(colors)\n",
    "\n",
    "#\n",
    "\n",
    "colors.insert(1, \"lilac-10\")\n",
    "\n",
    "#\n",
    "\n",
    "print(colors)"
   ]
  },
  {
   "cell_type": "markdown",
   "id": "c950e562",
   "metadata": {},
   "source": [
    "Create a Copy of a List"
   ]
  },
  {
   "cell_type": "code",
   "execution_count": 110,
   "id": "3af4293d",
   "metadata": {},
   "outputs": [
    {
     "name": "stdout",
     "output_type": "stream",
     "text": [
      "['red-0', 'yellow-1', 'blue-2', 'purple-3', 'orange-4', 'black-5', 'green-6', 'brown-7', 'pink-8', 'white-9', 'lilac-10']\n",
      "['red-0', 'yellow-1', 'blue-2', 'purple-3', 'orange-4', 'black-5', 'green-6', 'brown-7', 'pink-8', 'white-9', 'lilac-10']\n"
     ]
    }
   ],
   "source": [
    "## create a copy of an existing list\n",
    "\n",
    "new_colors = colors.copy()\n",
    "\n",
    "print(colors)\n",
    "print(new_colors)"
   ]
  },
  {
   "cell_type": "markdown",
   "id": "6ecbe752",
   "metadata": {},
   "source": [
    "Add Multiple Values to a List at Once"
   ]
  },
  {
   "cell_type": "code",
   "execution_count": 111,
   "id": "49204298",
   "metadata": {
    "scrolled": true
   },
   "outputs": [
    {
     "name": "stdout",
     "output_type": "stream",
     "text": [
      "['red-0', 'yellow-1', 'blue-2', 'purple-3', 'orange-4', 'black-5', 'green-6', 'brown-7', 'pink-8', 'white-9', 'lilac-10', 'beige-11', 'coral-12', 'turquoise-13']\n"
     ]
    }
   ],
   "source": [
    "## add multiple new items to a list\n",
    "\n",
    "more_colors = [\"beige-11\", \"coral-12\", \"turquoise-13\"]\n",
    "\n",
    "## extend the current list\n",
    "\n",
    "colors.extend(more_colors)\n",
    "\n",
    "print(colors)"
   ]
  },
  {
   "cell_type": "markdown",
   "id": "c719cf26",
   "metadata": {},
   "source": [
    "#### Exercise #3: \n",
    "\n",
    "Follow the steps below to complete the exercise - \n",
    "\n",
    "    1. Ask a user for two numbers. \n",
    "    2. Randomly generate 5 numbers between the two numbers given by a user. Save the 5 numbers to a list called \"nos1\".\n",
    "    3. Randomly generate 3 numbers between the two numbers given by a user. Save the 3 numbers to a list called \"nos2\". \n",
    "    4. Make a copy of the list \"nos1\" and save it to a variable called \"all_nos\".\n",
    "    5. Extend \"nos2\" to the end of \"all_nos\". \n",
    "    6. Print the original 5 random numbers, 3 random numbers, and all 8 numbers. Use formatted strings to label each list of numbers that you print. "
   ]
  },
  {
   "cell_type": "code",
   "execution_count": null,
   "id": "24092a16",
   "metadata": {},
   "outputs": [],
   "source": [
    "## 1\n",
    "n1 = int(input(\"Number 1: \"))\n",
    "n2 = int(input(\"Number 2: \"))"
   ]
  },
  {
   "cell_type": "code",
   "execution_count": null,
   "id": "6ed2209e",
   "metadata": {},
   "outputs": [],
   "source": [
    "## 2\n",
    "def numGen():\n",
    "    return rand.randint(n1, n2)"
   ]
  },
  {
   "cell_type": "code",
   "execution_count": null,
   "id": "938793aa",
   "metadata": {},
   "outputs": [],
   "source": [
    "## 3 \n"
   ]
  },
  {
   "cell_type": "code",
   "execution_count": null,
   "id": "a913dbd9",
   "metadata": {},
   "outputs": [],
   "source": [
    "## 4\n"
   ]
  },
  {
   "cell_type": "code",
   "execution_count": null,
   "id": "8c18c325",
   "metadata": {},
   "outputs": [],
   "source": [
    "## 5\n"
   ]
  },
  {
   "cell_type": "code",
   "execution_count": null,
   "id": "9053a684",
   "metadata": {},
   "outputs": [],
   "source": [
    "## 6\n"
   ]
  },
  {
   "cell_type": "code",
   "execution_count": 64,
   "id": "aa3ceffe",
   "metadata": {},
   "outputs": [
    {
     "name": "stdin",
     "output_type": "stream",
     "text": [
      "Number 1:  1\n",
      "Number 2:  6\n"
     ]
    },
    {
     "name": "stdout",
     "output_type": "stream",
     "text": [
      "Original numbers(5): [3, 2, 4, 4, 5]\n",
      "Original numbers(3): [5, 1, 6]\n",
      "All numbers(8): [3, 2, 4, 4, 5, 5, 1, 6]\n"
     ]
    }
   ],
   "source": [
    "import random as rand\n",
    "\n",
    "n1 = int(input(\"Number 1: \"))\n",
    "n2 = int(input(\"Number 2: \"))\n",
    "nos1 = []\n",
    "nos2 = []\n",
    "\n",
    "def numGen():\n",
    "    return rand.randint(n1, n2)\n",
    "\n",
    "nos1.append(numGen())\n",
    "nos1.append(numGen())\n",
    "nos1.append(numGen())\n",
    "nos1.append(numGen())\n",
    "nos1.append(numGen())\n",
    "\n",
    "nos2.append(numGen())\n",
    "nos2.append(numGen())\n",
    "nos2.append(numGen())\n",
    "\n",
    "all_nos = nos1.copy()\n",
    "all_nos.extend(nos2)\n",
    "\n",
    "# original 5 random numbers, 3 random numbers, and all 8 numbers\n",
    "print(f\"Original numbers(5): {nos1}\\nOriginal numbers(3): {nos2}\\nAll numbers(8): {all_nos}\")"
   ]
  },
  {
   "cell_type": "code",
   "execution_count": 13,
   "id": "a1cfa55b-6c20-4646-a694-aeb2126e988e",
   "metadata": {},
   "outputs": [
    {
     "name": "stdin",
     "output_type": "stream",
     "text": [
      "Number 1:  2\n",
      "Number 2:  8\n"
     ]
    },
    {
     "name": "stdout",
     "output_type": "stream",
     "text": [
      "[6, 7, 2, 7, 4]\n",
      "[4, 3, 3]\n"
     ]
    }
   ],
   "source": [
    "\n",
    "\n",
    "import random as rand\n",
    "\n",
    "nos1 = []\n",
    "nos2 = []\n",
    "\n",
    "n1 = int(input(\"Number 1: \"))\n",
    "n2 = int(input(\"Number 2: \"))\n",
    "\n",
    "def random_numbers (howMany, list):\n",
    "  for num in range(howMany):\n",
    "    randNum = rand.randint(n1,n2)\n",
    "    list.append(randNum)\n",
    "\n",
    "  return list\n",
    "\n",
    "random_numbers(5, nos1)\n",
    "random_numbers(3, nos2)\n",
    "\n",
    "print(nos1)\n",
    "print(nos2)"
   ]
  },
  {
   "cell_type": "code",
   "execution_count": null,
   "id": "75e1309c-d361-4424-adf6-2369d48e2c9c",
   "metadata": {},
   "outputs": [],
   "source": []
  }
 ],
 "metadata": {
  "kernelspec": {
   "display_name": "Python 3 (ipykernel)",
   "language": "python",
   "name": "python3"
  },
  "language_info": {
   "codemirror_mode": {
    "name": "ipython",
    "version": 3
   },
   "file_extension": ".py",
   "mimetype": "text/x-python",
   "name": "python",
   "nbconvert_exporter": "python",
   "pygments_lexer": "ipython3",
   "version": "3.11.7"
  }
 },
 "nbformat": 4,
 "nbformat_minor": 5
}

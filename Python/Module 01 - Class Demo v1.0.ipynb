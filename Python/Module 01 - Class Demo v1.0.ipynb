{
 "cells": [
  {
   "cell_type": "markdown",
   "metadata": {},
   "source": [
    "<b>Comments within your Code</b>\n",
    "\n",
    "A vital piece of code writing is including comments within your code. Comments are chunks of text that are written above, below, alongside, etc. lines of code within a cell that is marked as \"Code\" (or in command mode). These chunks of text will be visable to you, but will NOT be executed as part of the rest of the code. Basically, you are marking your code with commentary -- for your own understanding or to allow someone else reading your code to better understand what you were doing. Get into the practice of writing descriptive comments along with all of your code. While you are learning variaous skills, it will be invaluable for you to notate the purpose of each section of code. Throughout the course lessons, you will find valuable information in the comments that I include in my code.\n",
    "\n",
    "To create a comment, insert a hashtag before a line of text within a cell that is in command mode. The text will turn green and you will know that it is a comment. See below for what a comment looks like within a cell!"
   ]
  },
  {
   "cell_type": "code",
   "execution_count": null,
   "metadata": {},
   "outputs": [],
   "source": [
    "# this is a comment line"
   ]
  },
  {
   "cell_type": "code",
   "execution_count": null,
   "metadata": {},
   "outputs": [],
   "source": [
    "            # this is just for you!"
   ]
  },
  {
   "cell_type": "markdown",
   "metadata": {},
   "source": [
    "# Introduction to Data, Datasets, and Basic Python"
   ]
  },
  {
   "cell_type": "markdown",
   "metadata": {},
   "source": [
    "### What is Data?\n",
    "\n",
    "Data are individual units of information. In analytics, data are represented by variables. Data can include the names of everyone in a community, the height of each player on a basketball team, the life-expectancy rate for several different countries, a description of symptoms from a patient over the course of a hospital stay, or the text from several articles about a specific topic. Data is endless, and as more avenues become available for collecting information, traditional data is expanding into BIG data. "
   ]
  },
  {
   "cell_type": "markdown",
   "metadata": {},
   "source": [
    "### Data Types\n",
    "\n",
    "Main types of values we will be covering in this class are: \n",
    "\n",
    "- An int value is an integer (whole numbers)\n",
    "- A float value is a decimal number\n",
    "- A string value is alpha-numeric characters that cannot be mathematically computed; can use single or double quotes\n",
    "- A Boolean value is either True or False"
   ]
  },
  {
   "cell_type": "code",
   "execution_count": null,
   "metadata": {},
   "outputs": [],
   "source": [
    "123      # this is an integer"
   ]
  },
  {
   "cell_type": "code",
   "execution_count": null,
   "metadata": {},
   "outputs": [],
   "source": [
    "1.23     # this is a float"
   ]
  },
  {
   "cell_type": "code",
   "execution_count": null,
   "metadata": {},
   "outputs": [],
   "source": [
    "\"123\"    # this is a string"
   ]
  },
  {
   "cell_type": "code",
   "execution_count": null,
   "metadata": {},
   "outputs": [],
   "source": [
    "'123'    # this is a string, too"
   ]
  },
  {
   "cell_type": "code",
   "execution_count": null,
   "metadata": {},
   "outputs": [],
   "source": [
    "\"I'm a string.\""
   ]
  },
  {
   "cell_type": "code",
   "execution_count": null,
   "metadata": {},
   "outputs": [],
   "source": [
    "'I\"m a string as well.'"
   ]
  },
  {
   "cell_type": "code",
   "execution_count": null,
   "metadata": {},
   "outputs": [],
   "source": [
    "\"\"Hey, me too\", said the next one.\" "
   ]
  },
  {
   "cell_type": "code",
   "execution_count": null,
   "metadata": {},
   "outputs": [],
   "source": [
    "\"\\\"Hey, me too\\\", said the next one.\"   # use an escape key ('\\') before double quote (\")"
   ]
  },
  {
   "cell_type": "code",
   "execution_count": null,
   "metadata": {},
   "outputs": [],
   "source": [
    "True"
   ]
  },
  {
   "cell_type": "code",
   "execution_count": null,
   "metadata": {},
   "outputs": [],
   "source": [
    "false            # what color is it?"
   ]
  },
  {
   "cell_type": "code",
   "execution_count": null,
   "metadata": {},
   "outputs": [],
   "source": [
    "False"
   ]
  },
  {
   "cell_type": "markdown",
   "metadata": {},
   "source": [
    "### What is a Variable? \n",
    "\n",
    "<b>A variable</b> is a holder or container for a specific value(s). A value can range in type, but regardless of what the value is, the variable holds that information which allows you to call upon it when you need it. Variables can hold one or many values. \n",
    "\n",
    "<b>A value</b> is information or data. This can include a number, a sentence, a symbol, an address, etc. The list is endless. Sometimes values are complex and messy, and therefore they are better organized and manipulated when assigned to a variable. "
   ]
  },
  {
   "cell_type": "markdown",
   "metadata": {},
   "source": [
    "<b>ASSIGNING A VALUE TO A VARIABLE</b>\n",
    "\n",
    "You can assign any value you choose to any variable you choose. When considering what to name your variables, keep the variable names (1) descriptive, (2) short, and (3) without spaces!\n",
    "\n",
    "To assign a value to a variable name, you will first write the name of the variable and then add a single equal sign (=), on the right of the equal sign you will write out the value you want to assign that variable. "
   ]
  },
  {
   "cell_type": "code",
   "execution_count": null,
   "metadata": {},
   "outputs": [],
   "source": [
    "# <variable name> = <data value>\n",
    "\n",
    "x = 123    # variable name is x and it has an integer value of 123\n",
    "y = 1.23   # variable name is y and it has a float value of 1.23\n",
    "z = \"123\"  # varialbe name is z and it has a string value of \"123\"\n",
    "z1 = '123' # varialbe name is z1 and it has a string value of '123'"
   ]
  },
  {
   "cell_type": "markdown",
   "metadata": {},
   "source": [
    "<b>OUTPUTTING THE VALUE OF A VARIABLE</b>\n",
    "\n",
    "What use is a variable if you can never see what value(s) it contains? Throughout this course, you will learn to explore and manipulate the data that is stored within variables. However, before we get too fancy, we have to learn how to display the values that are contained within our variables. We can do this easily by simply typing the variable name in a cell and running that cell -- the output beneath the cell will display the value stored within the variable. "
   ]
  },
  {
   "cell_type": "code",
   "execution_count": 1,
   "metadata": {},
   "outputs": [
    {
     "ename": "NameError",
     "evalue": "name 'x' is not defined",
     "output_type": "error",
     "traceback": [
      "\u001b[1;31m---------------------------------------------------------------------------\u001b[0m",
      "\u001b[1;31mNameError\u001b[0m                                 Traceback (most recent call last)",
      "Cell \u001b[1;32mIn[1], line 1\u001b[0m\n\u001b[1;32m----> 1\u001b[0m x\n",
      "\u001b[1;31mNameError\u001b[0m: name 'x' is not defined"
     ]
    }
   ],
   "source": [
    "x          # this statement will print the value of x "
   ]
  },
  {
   "cell_type": "code",
   "execution_count": 17,
   "metadata": {},
   "outputs": [
    {
     "ename": "SyntaxError",
     "evalue": "invalid syntax (2681249226.py, line 1)",
     "output_type": "error",
     "traceback": [
      "\u001b[1;36m  Cell \u001b[1;32mIn[17], line 1\u001b[1;36m\u001b[0m\n\u001b[1;33m    rate = 2.625%\u001b[0m\n\u001b[1;37m                 ^\u001b[0m\n\u001b[1;31mSyntaxError\u001b[0m\u001b[1;31m:\u001b[0m invalid syntax\n"
     ]
    }
   ],
   "source": [
    "rate = 2.625%"
   ]
  },
  {
   "cell_type": "code",
   "execution_count": 18,
   "metadata": {},
   "outputs": [
    {
     "data": {
      "text/plain": [
       "0.02625"
      ]
     },
     "execution_count": 18,
     "metadata": {},
     "output_type": "execute_result"
    }
   ],
   "source": [
    "# % is an arithematic operator\n",
    "\n",
    "\n",
    "rate = 0.02625\n",
    "rate"
   ]
  },
  {
   "cell_type": "code",
   "execution_count": 19,
   "metadata": {},
   "outputs": [
    {
     "data": {
      "text/plain": [
       "True"
      ]
     },
     "execution_count": 19,
     "metadata": {},
     "output_type": "execute_result"
    }
   ],
   "source": [
    "found = True    # use a verb to hold Boolean value\n",
    "found"
   ]
  },
  {
   "cell_type": "code",
   "execution_count": 20,
   "metadata": {},
   "outputs": [
    {
     "data": {
      "text/plain": [
       "3"
      ]
     },
     "execution_count": 20,
     "metadata": {},
     "output_type": "execute_result"
    }
   ],
   "source": [
    "# variable names start with a letter or underscore (_)\n",
    "\n",
    "_12th = 3\n",
    "_12th"
   ]
  },
  {
   "cell_type": "code",
   "execution_count": 4,
   "metadata": {},
   "outputs": [
    {
     "ename": "SyntaxError",
     "evalue": "invalid decimal literal (2307516060.py, line 1)",
     "output_type": "error",
     "traceback": [
      "\u001b[1;36m  Cell \u001b[1;32mIn[4], line 1\u001b[1;36m\u001b[0m\n\u001b[1;33m    12th = 100\u001b[0m\n\u001b[1;37m     ^\u001b[0m\n\u001b[1;31mSyntaxError\u001b[0m\u001b[1;31m:\u001b[0m invalid decimal literal\n"
     ]
    }
   ],
   "source": [
    "12th = 100\n",
    "12th"
   ]
  },
  {
   "cell_type": "code",
   "execution_count": 21,
   "metadata": {},
   "outputs": [
    {
     "data": {
      "text/plain": [
       "100"
      ]
     },
     "execution_count": 21,
     "metadata": {},
     "output_type": "execute_result"
    }
   ],
   "source": [
    "# a variable name must start with a letter or underscore (_)\n",
    "\n",
    "\n",
    "th12=100\n",
    "th12"
   ]
  },
  {
   "cell_type": "code",
   "execution_count": 22,
   "metadata": {},
   "outputs": [],
   "source": [
    "# variable naming convention\n",
    "\n",
    "firstName = \"camel type\"\n",
    "first_name = \"snake type\"\n",
    "firstname = \"not very good type\""
   ]
  },
  {
   "cell_type": "code",
   "execution_count": 23,
   "metadata": {},
   "outputs": [
    {
     "data": {
      "text/plain": [
       "20877"
      ]
     },
     "execution_count": 23,
     "metadata": {},
     "output_type": "execute_result"
    }
   ],
   "source": [
    "# variable can hold any data type in Python\n",
    "value = 20877\n",
    "value"
   ]
  },
  {
   "cell_type": "code",
   "execution_count": 24,
   "metadata": {},
   "outputs": [
    {
     "data": {
      "text/plain": [
       "'20877'"
      ]
     },
     "execution_count": 24,
     "metadata": {},
     "output_type": "execute_result"
    }
   ],
   "source": [
    "value = \"20877\"\n",
    "value"
   ]
  },
  {
   "cell_type": "code",
   "execution_count": 25,
   "metadata": {},
   "outputs": [
    {
     "data": {
      "text/plain": [
       "208.77"
      ]
     },
     "execution_count": 25,
     "metadata": {},
     "output_type": "execute_result"
    }
   ],
   "source": [
    "value = 208.77\n",
    "value"
   ]
  },
  {
   "cell_type": "markdown",
   "metadata": {},
   "source": [
    "###  Exercise 1\n",
    "\n",
    "- On each cell, create a variable called: \n",
    "    - my_name : assign a <b>string</b> value and display its value\n",
    "    - month : assign an <b>integer</b> number and display its value\n",
    "    - gpa : assign a <b>float</b> number and display its value\n",
    "\n",
    "\n",
    "- Run each cell at a time\n",
    "- Create a new cell and reassign all three variables to new values and display each value\n",
    "- Run the new cell\n"
   ]
  },
  {
   "cell_type": "code",
   "execution_count": 26,
   "metadata": {},
   "outputs": [
    {
     "data": {
      "text/plain": [
       "'Joy'"
      ]
     },
     "execution_count": 26,
     "metadata": {},
     "output_type": "execute_result"
    }
   ],
   "source": [
    "# my_name : assign a string value and display its value\n",
    "my_name = \"Joy\"\n",
    "my_name"
   ]
  },
  {
   "cell_type": "code",
   "execution_count": 27,
   "metadata": {},
   "outputs": [
    {
     "data": {
      "text/plain": [
       "4"
      ]
     },
     "execution_count": 27,
     "metadata": {},
     "output_type": "execute_result"
    }
   ],
   "source": [
    "# month : assign an integer number and display its value\n",
    "\n",
    "month = 4\n",
    "month "
   ]
  },
  {
   "cell_type": "code",
   "execution_count": 28,
   "metadata": {},
   "outputs": [
    {
     "data": {
      "text/plain": [
       "3.56"
      ]
     },
     "execution_count": 28,
     "metadata": {},
     "output_type": "execute_result"
    }
   ],
   "source": [
    "# gpa : assign a float number and display its value\n",
    "\n",
    "gpa = 3.56\n",
    "gpa"
   ]
  },
  {
   "cell_type": "code",
   "execution_count": 29,
   "metadata": {},
   "outputs": [],
   "source": [
    "my_name =  \"Kyle\"                            # give a new value\n",
    "month = 8                               # give a new value\n",
    "gpa =  2.77                                # give a new value"
   ]
  },
  {
   "cell_type": "code",
   "execution_count": 30,
   "metadata": {},
   "outputs": [
    {
     "data": {
      "text/plain": [
       "3.97"
      ]
     },
     "execution_count": 30,
     "metadata": {},
     "output_type": "execute_result"
    }
   ],
   "source": [
    "my_name = \"Andrea\"\n",
    "month = \"March\"\n",
    "gpa = 3.97\n",
    "# run this cell and see what happens\n",
    "my_name\n",
    "month\n",
    "gpa"
   ]
  },
  {
   "cell_type": "markdown",
   "metadata": {},
   "source": [
    "<b>PRINTING THE VALUES OF A VARIABLE</b>\n",
    "\n",
    "The <b>PRINT FUNCTION</b> commands the system to output the values of one or multiple variables. This function comes in handy when you want to see multiple values output together (combating the problem we just saw above). The print function also allows you to display more complex data than just a single value. We will explore more of what this looks like later on -- but for now, get familiar with how the print function works. "
   ]
  },
  {
   "cell_type": "code",
   "execution_count": 31,
   "metadata": {},
   "outputs": [
    {
     "name": "stdout",
     "output_type": "stream",
     "text": [
      "Hello, World!!!\n"
     ]
    }
   ],
   "source": [
    "# print a string by putting it in the paraenthases \n",
    "\n",
    "# print()\n",
    "\n",
    "print(\"Hello, World!!!\")"
   ]
  },
  {
   "cell_type": "code",
   "execution_count": 32,
   "metadata": {},
   "outputs": [
    {
     "name": "stdout",
     "output_type": "stream",
     "text": [
      "These are the values that I've assigned my variables:\n",
      "Andrea\n",
      "March\n",
      "3.97\n"
     ]
    }
   ],
   "source": [
    "print(\"These are the values that I've assigned my variables:\")\n",
    "\n",
    "print(my_name)\n",
    "print(month)\n",
    "print(gpa)"
   ]
  },
  {
   "cell_type": "code",
   "execution_count": 33,
   "metadata": {},
   "outputs": [
    {
     "name": "stdout",
     "output_type": "stream",
     "text": [
      "One of Python's strength is its diverse community.\n"
     ]
    }
   ],
   "source": [
    "print(\"One of Python's strength is its diverse community.\") "
   ]
  },
  {
   "cell_type": "code",
   "execution_count": 34,
   "metadata": {},
   "outputs": [
    {
     "name": "stdout",
     "output_type": "stream",
     "text": [
      "text with\t1 tab\t\t2 tabs\n"
     ]
    }
   ],
   "source": [
    "# you can include escape characters in your string\n",
    "# use \\t to tab\n",
    "# use \\n to start a new line\n",
    "\n",
    "print(\"text with\\t1 tab\\t\\t2 tabs\")"
   ]
  },
  {
   "cell_type": "code",
   "execution_count": 35,
   "metadata": {},
   "outputs": [
    {
     "name": "stdout",
     "output_type": "stream",
     "text": [
      "this\n",
      "is\n",
      "multiple\n",
      "lines\n",
      "of\n",
      "text\n"
     ]
    }
   ],
   "source": [
    "# use the \\n escape key before where you want to split \n",
    "\n",
    "print(\"this\\nis\\nmultiple\\nlines\\nof\\ntext\")"
   ]
  },
  {
   "cell_type": "code",
   "execution_count": 36,
   "metadata": {},
   "outputs": [
    {
     "name": "stdout",
     "output_type": "stream",
     "text": [
      "this is \n",
      "multiple \n",
      "lines \n",
      "of \n",
      "strings in Python\n"
     ]
    }
   ],
   "source": [
    "# you can use a block string to also create multiple lines of text \n",
    "# a block string is characterized by three double quotes\n",
    "\n",
    "print(\"\"\"this is \n",
    "multiple \n",
    "lines \n",
    "of \n",
    "strings in Python\"\"\")    # this is a doc-string or block string"
   ]
  },
  {
   "cell_type": "code",
   "execution_count": 13,
   "metadata": {},
   "outputs": [
    {
     "name": "stdout",
     "output_type": "stream",
     "text": [
      "208.77\n"
     ]
    }
   ],
   "source": [
    "print(value)             # where did 'value' variable come from?"
   ]
  },
  {
   "cell_type": "code",
   "execution_count": 37,
   "metadata": {},
   "outputs": [
    {
     "name": "stdout",
     "output_type": "stream",
     "text": [
      "Hello,  Andrea\n"
     ]
    }
   ],
   "source": [
    "# you can insert variable names into the print function to return the value of the variable\n",
    "# separate the string by a comma\n",
    "\n",
    "print(\"Hello, \", my_name)"
   ]
  },
  {
   "cell_type": "code",
   "execution_count": 38,
   "metadata": {},
   "outputs": [],
   "source": [
    "greetings = \"Hello\"\n",
    "first_name = \"Elmo\""
   ]
  },
  {
   "cell_type": "code",
   "execution_count": 15,
   "metadata": {},
   "outputs": [
    {
     "name": "stdout",
     "output_type": "stream",
     "text": [
      "Hello Elmo\n"
     ]
    }
   ],
   "source": [
    "print(greetings, first_name)  # what's the result?  why?"
   ]
  },
  {
   "cell_type": "code",
   "execution_count": 39,
   "metadata": {
    "scrolled": true
   },
   "outputs": [
    {
     "ename": "NameError",
     "evalue": "name 'last_name' is not defined",
     "output_type": "error",
     "traceback": [
      "\u001b[1;31m---------------------------------------------------------------------------\u001b[0m",
      "\u001b[1;31mNameError\u001b[0m                                 Traceback (most recent call last)",
      "Cell \u001b[1;32mIn[39], line 1\u001b[0m\n\u001b[1;32m----> 1\u001b[0m \u001b[38;5;28mprint\u001b[39m(first_name, last_name)\n",
      "\u001b[1;31mNameError\u001b[0m: name 'last_name' is not defined"
     ]
    }
   ],
   "source": [
    "print(first_name, last_name)  # what's the result?  why?"
   ]
  },
  {
   "cell_type": "code",
   "execution_count": 40,
   "metadata": {},
   "outputs": [
    {
     "name": "stdout",
     "output_type": "stream",
     "text": [
      "1 2 3 4 5\n"
     ]
    }
   ],
   "source": [
    "# printing numbers creates a line of values\n",
    "\n",
    "print(1, 2, 3, 4, 5)"
   ]
  },
  {
   "cell_type": "code",
   "execution_count": 41,
   "metadata": {},
   "outputs": [
    {
     "name": "stdout",
     "output_type": "stream",
     "text": [
      "1*2*3*4*5\n",
      "1*2*3*4*5\n",
      "1*2*3*4*5\n",
      "1*2*3*4*5\n",
      "1*2*3*4*5\n"
     ]
    }
   ],
   "source": [
    "# by default, values are separated by spaces\n",
    "# you can change this by specifying a character to replace\n",
    "\n",
    "star = \"*\"\n",
    "\n",
    "print(1, 2, 3, 4, 5, sep=\"*\")\n",
    "print(1, 2, 3, 4, 5, sep=star)\n",
    "print(1, 2, 3, 4, 5, sep=star)\n",
    "print(1, 2, 3, 4, 5, sep=star)\n",
    "print(1, 2, 3, 4, 5, sep=star)"
   ]
  },
  {
   "cell_type": "code",
   "execution_count": 42,
   "metadata": {},
   "outputs": [
    {
     "name": "stdout",
     "output_type": "stream",
     "text": [
      "1 2 3 4 5**1 2 3 4 5\n",
      "1 2 3 4 5\n"
     ]
    }
   ],
   "source": [
    "# by default the print function ends with blank space\n",
    "# you can change this by specifying a character to replace\n",
    "\n",
    "print(1, 2, 3, 4, 5, end='**')\n",
    "print(1, 2, 3, 4, 5)\n",
    "print(1, 2, 3, 4, 5)"
   ]
  },
  {
   "cell_type": "code",
   "execution_count": 50,
   "metadata": {},
   "outputs": [
    {
     "name": "stdout",
     "output_type": "stream",
     "text": [
      "1\t2\t3\t4\t5|1\t2\t3\t4\t5\n",
      "1\t2\t3\t4\t5\n"
     ]
    }
   ],
   "source": [
    "# you can assign the end-of-line or separating characters to variables\n",
    "# you can use these variables multiple times\n",
    "\n",
    "EOL = '|'\n",
    "DELIMITER = '\\t' # you can also include escape keys \n",
    "\n",
    "print(1, 2, 3, 4, 5, sep=DELIMITER, end=EOL)      # user all upper cases for constant variable\n",
    "print(1, 2, 3, 4, 5, sep=DELIMITER)\n",
    "print(1, 2, 3, 4, 5, sep=DELIMITER)"
   ]
  },
  {
   "cell_type": "code",
   "execution_count": 51,
   "metadata": {},
   "outputs": [
    {
     "name": "stdout",
     "output_type": "stream",
     "text": [
      "20877\n",
      "20877\n",
      "208.77\n"
     ]
    }
   ],
   "source": [
    "# the print statement can be used with all variable types\n",
    "# but what if you want to see the type of variable?\n",
    "\n",
    "val1 = 20877\n",
    "val2 = \"20877\"\n",
    "val3 = 208.77\n",
    "\n",
    "print(val1)\n",
    "print(val2)\n",
    "print(val3)"
   ]
  },
  {
   "cell_type": "markdown",
   "metadata": {},
   "source": [
    "<b>OUTPUTTING THE TYPES OF DATA WITHIN A VARIABLE</b>\n",
    "\n",
    "The <b>TYPE FUNCTION</b> commands the system to output the 'variable type' information that is stored within a specific variable. Different variable types require specific codes, therefore, it is always important to be aware of the type of variables you are working with. The type function will read the variable name and output the type of variable that it is. "
   ]
  },
  {
   "cell_type": "code",
   "execution_count": 52,
   "metadata": {},
   "outputs": [
    {
     "data": {
      "text/plain": [
       "str"
      ]
     },
     "execution_count": 52,
     "metadata": {},
     "output_type": "execute_result"
    }
   ],
   "source": [
    "type(\"Hello\")"
   ]
  },
  {
   "cell_type": "code",
   "execution_count": 53,
   "metadata": {},
   "outputs": [
    {
     "data": {
      "text/plain": [
       "int"
      ]
     },
     "execution_count": 53,
     "metadata": {},
     "output_type": "execute_result"
    }
   ],
   "source": [
    "# use the type function to see the data-type stored with the value \n",
    "\n",
    "type(val1)"
   ]
  },
  {
   "cell_type": "code",
   "execution_count": 54,
   "metadata": {},
   "outputs": [
    {
     "data": {
      "text/plain": [
       "str"
      ]
     },
     "execution_count": 54,
     "metadata": {},
     "output_type": "execute_result"
    }
   ],
   "source": [
    "type(val2)"
   ]
  },
  {
   "cell_type": "code",
   "execution_count": 55,
   "metadata": {},
   "outputs": [
    {
     "name": "stdout",
     "output_type": "stream",
     "text": [
      "<class 'int'>\n",
      "<class 'str'>\n",
      "<class 'float'>\n"
     ]
    }
   ],
   "source": [
    "# combine the print and type function to return the type for multiple values\n",
    "\n",
    "print(type(val1))\n",
    "print(type(val2))\n",
    "print(type(val3))"
   ]
  },
  {
   "cell_type": "markdown",
   "metadata": {},
   "source": [
    "### Arithmetic Operators\n",
    "    +  : addition\n",
    "    -  : subtraction\n",
    "    *  : multiplication\n",
    "    /  : division\n",
    "    %  : modulo (finds the remainder of a division)\n",
    "    ** : exponent\n",
    "    // : floor division"
   ]
  },
  {
   "cell_type": "code",
   "execution_count": 56,
   "metadata": {},
   "outputs": [],
   "source": [
    "# let's start with two numbers to work with \n",
    "\n",
    "numb1 = 25\n",
    "numb2 = 5"
   ]
  },
  {
   "cell_type": "code",
   "execution_count": 57,
   "metadata": {},
   "outputs": [
    {
     "name": "stdout",
     "output_type": "stream",
     "text": [
      "30\n"
     ]
    }
   ],
   "source": [
    "# add two numbers together\n",
    "\n",
    "print(numb1 + numb2)"
   ]
  },
  {
   "cell_type": "code",
   "execution_count": 58,
   "metadata": {},
   "outputs": [
    {
     "name": "stdout",
     "output_type": "stream",
     "text": [
      "20\n"
     ]
    }
   ],
   "source": [
    "# subtract two numbers \n",
    "\n",
    "print(numb1 - numb2)"
   ]
  },
  {
   "cell_type": "code",
   "execution_count": 59,
   "metadata": {},
   "outputs": [
    {
     "data": {
      "text/plain": [
       "6.25"
      ]
     },
     "execution_count": 59,
     "metadata": {},
     "output_type": "execute_result"
    }
   ],
   "source": [
    "# let's change the value of numb2 \n",
    "numb2 = 4\n",
    "\n",
    "# divide two numbers (left into the right number) \n",
    "numb1 / numb2"
   ]
  },
  {
   "cell_type": "code",
   "execution_count": 60,
   "metadata": {},
   "outputs": [
    {
     "data": {
      "text/plain": [
       "6"
      ]
     },
     "execution_count": 60,
     "metadata": {},
     "output_type": "execute_result"
    }
   ],
   "source": [
    "# floor division divides two numbers and returns the value without a remainder \n",
    "\n",
    "numb1 // numb2   "
   ]
  },
  {
   "cell_type": "code",
   "execution_count": 61,
   "metadata": {},
   "outputs": [
    {
     "data": {
      "text/plain": [
       "1"
      ]
     },
     "execution_count": 61,
     "metadata": {},
     "output_type": "execute_result"
    }
   ],
   "source": [
    "# modulos returns the remainder after dividing two numbers\n",
    "# 4 goes into 25 6-times, and there is 1 leftover (4x6 = 24; 25-24 = 1)\n",
    "\n",
    "numb1 % numb2"
   ]
  },
  {
   "cell_type": "code",
   "execution_count": 62,
   "metadata": {},
   "outputs": [
    {
     "data": {
      "text/plain": [
       "1"
      ]
     },
     "execution_count": 62,
     "metadata": {},
     "output_type": "execute_result"
    }
   ],
   "source": [
    "# python uses the order of operations\n",
    "# PEDMAS\n",
    "# P,E,[DM],[AS] \n",
    "# paraenthases, exponent, division/multiplication, addition/subtraction\n",
    "\n",
    "\n",
    "# 25 - (24) - where do you start?\n",
    "\n",
    "numb1 - ((numb1 // numb2) * numb2)"
   ]
  },
  {
   "cell_type": "code",
   "execution_count": 63,
   "metadata": {},
   "outputs": [
    {
     "data": {
      "text/plain": [
       "2"
      ]
     },
     "execution_count": 63,
     "metadata": {},
     "output_type": "execute_result"
    }
   ],
   "source": [
    "# 25 % 4 + 1\n",
    "\n",
    "numb1 % numb2 + 1        # what is going on?"
   ]
  },
  {
   "cell_type": "code",
   "execution_count": 64,
   "metadata": {},
   "outputs": [
    {
     "data": {
      "text/plain": [
       "0"
      ]
     },
     "execution_count": 64,
     "metadata": {},
     "output_type": "execute_result"
    }
   ],
   "source": [
    "# 25 % (4 + 1) - where do you start?\n",
    "\n",
    "numb1 % (numb2 + 1)"
   ]
  },
  {
   "cell_type": "code",
   "execution_count": 65,
   "metadata": {},
   "outputs": [
    {
     "name": "stdout",
     "output_type": "stream",
     "text": [
      "3\n"
     ]
    }
   ],
   "source": [
    "result = 0\n",
    "\n",
    "result = result + 3\n",
    "\n",
    "print(result)"
   ]
  },
  {
   "cell_type": "markdown",
   "metadata": {},
   "source": [
    "### Arithmetic Compound Operators\n",
    "    +=  : a = a + b\n",
    "    -=  : a = a - b\n",
    "    *=  : a = a * b\n",
    "    /=  : a = a / b\n",
    "    %=  : a = a % b\n",
    "    **= : a = a ** b\n",
    "    //= : a = a // b"
   ]
  },
  {
   "cell_type": "code",
   "execution_count": 66,
   "metadata": {},
   "outputs": [
    {
     "name": "stdout",
     "output_type": "stream",
     "text": [
      "3\n"
     ]
    }
   ],
   "source": [
    "# 3 is added to the value of 'result'\n",
    "\n",
    "result = 0\n",
    "result += 3\n",
    "\n",
    "# print the new value of result\n",
    "\n",
    "print(result)"
   ]
  },
  {
   "cell_type": "code",
   "execution_count": 67,
   "metadata": {},
   "outputs": [
    {
     "ename": "NameError",
     "evalue": "name 'new_value' is not defined",
     "output_type": "error",
     "traceback": [
      "\u001b[1;31m---------------------------------------------------------------------------\u001b[0m",
      "\u001b[1;31mNameError\u001b[0m                                 Traceback (most recent call last)",
      "Cell \u001b[1;32mIn[67], line 3\u001b[0m\n\u001b[0;32m      1\u001b[0m \u001b[38;5;66;03m# 2 is added to the value of 'new_value'\u001b[39;00m\n\u001b[1;32m----> 3\u001b[0m new_value \u001b[38;5;241m+\u001b[39m\u001b[38;5;241m=\u001b[39m \u001b[38;5;241m2\u001b[39m  \n\u001b[0;32m      5\u001b[0m \u001b[38;5;28mprint\u001b[39m(new_value)\n",
      "\u001b[1;31mNameError\u001b[0m: name 'new_value' is not defined"
     ]
    }
   ],
   "source": [
    "# 2 is added to the value of 'new_value'\n",
    "\n",
    "new_value += 2  \n",
    "\n",
    "print(new_value)"
   ]
  },
  {
   "cell_type": "code",
   "execution_count": 68,
   "metadata": {
    "scrolled": true
   },
   "outputs": [
    {
     "name": "stdout",
     "output_type": "stream",
     "text": [
      "2\n"
     ]
    }
   ],
   "source": [
    "# you have to first define (assign a value) a variable before using a compound operator\n",
    "new_value = 0\n",
    "\n",
    "# 2 is added to the value of 'new_value'\n",
    "new_value += 2  # new_value = new_value + 2\n",
    "\n",
    "print(new_value)"
   ]
  },
  {
   "cell_type": "code",
   "execution_count": 69,
   "metadata": {},
   "outputs": [
    {
     "name": "stdout",
     "output_type": "stream",
     "text": [
      "15\n"
     ]
    }
   ],
   "source": [
    "# the value of 'result' is multiplied by 5\n",
    "\n",
    "result *= 5\n",
    "\n",
    "print(result)"
   ]
  },
  {
   "cell_type": "code",
   "execution_count": 70,
   "metadata": {},
   "outputs": [
    {
     "name": "stdout",
     "output_type": "stream",
     "text": [
      "3.0\n"
     ]
    }
   ],
   "source": [
    "# the value of 'result' is divided by 5\n",
    "\n",
    "result /= 5\n",
    "print(result)"
   ]
  },
  {
   "cell_type": "code",
   "execution_count": 71,
   "metadata": {},
   "outputs": [
    {
     "name": "stdout",
     "output_type": "stream",
     "text": [
      "3\n"
     ]
    }
   ],
   "source": [
    "# assigned a new value\n",
    "new_value = 8\n",
    "\n",
    "# find the remainder of new_value and 5\n",
    "# new_value = new_value % 5\n",
    "\n",
    "new_value %= 5\n",
    "print(new_value)"
   ]
  },
  {
   "cell_type": "code",
   "execution_count": 72,
   "metadata": {},
   "outputs": [
    {
     "name": "stdout",
     "output_type": "stream",
     "text": [
      "1\n"
     ]
    }
   ],
   "source": [
    "new_value = 8\n",
    "\n",
    "# divide new_value by 5 without a remainder (floor)\n",
    "# new_value = new_value // 5\n",
    "\n",
    "new_value //= 5\n",
    "print(new_value)"
   ]
  },
  {
   "cell_type": "markdown",
   "metadata": {},
   "source": [
    "### String Operations\n",
    "    + : concatenation\n",
    "    * : repeat"
   ]
  },
  {
   "cell_type": "code",
   "execution_count": 73,
   "metadata": {},
   "outputs": [
    {
     "name": "stdout",
     "output_type": "stream",
     "text": [
      "secretsecretsecret\n"
     ]
    }
   ],
   "source": [
    "# strings can use the operators but the results will be different\n",
    "\n",
    "message = \"secret\"\n",
    "\n",
    "# add two strings together\n",
    "\n",
    "print(message + message + message)"
   ]
  },
  {
   "cell_type": "code",
   "execution_count": 74,
   "metadata": {},
   "outputs": [
    {
     "name": "stdout",
     "output_type": "stream",
     "text": [
      "secretsecretsecretsecretsecret\n"
     ]
    }
   ],
   "source": [
    "# multiply strings to repeat them a certain amount of times\n",
    "\n",
    "print(message * 5)"
   ]
  },
  {
   "cell_type": "markdown",
   "metadata": {},
   "source": [
    "### Formatted String\n",
    "    {}  : a place holder\n",
    "    ,   : shows commas in thousands place\n",
    "    .2f : shows 2 digits after the decimal point\n",
    "    .2% : shows 2 digits after the decimal point in percentage (%)"
   ]
  },
  {
   "cell_type": "code",
   "execution_count": 75,
   "metadata": {},
   "outputs": [],
   "source": [
    "first_name = \"Cookie\"\n",
    "last_name = \"Monster\""
   ]
  },
  {
   "cell_type": "code",
   "execution_count": 76,
   "metadata": {},
   "outputs": [
    {
     "name": "stdout",
     "output_type": "stream",
     "text": [
      "The main character is {first_name} {last_name}.\n"
     ]
    }
   ],
   "source": [
    "# non-formatted string will not have the same features\n",
    "\n",
    "print(\"The main character is {first_name} {last_name}.\")"
   ]
  },
  {
   "cell_type": "code",
   "execution_count": 77,
   "metadata": {},
   "outputs": [
    {
     "name": "stdout",
     "output_type": "stream",
     "text": [
      "The main character is Cookie Monster.\n"
     ]
    }
   ],
   "source": [
    "# the curly brackets are placeholders for variable values\n",
    "\n",
    "print(f\"The main character is {first_name} {last_name}.\")"
   ]
  },
  {
   "cell_type": "code",
   "execution_count": 78,
   "metadata": {},
   "outputs": [
    {
     "name": "stdout",
     "output_type": "stream",
     "text": [
      "Amount is $1,234,567.89\n"
     ]
    }
   ],
   "source": [
    "amount = 1234567.89123\n",
    "\n",
    "# return the value of the variable in a specific format\n",
    "# comma in thousands place and 3 decimal places\n",
    "\n",
    "print(f\"Amount is ${amount:,.2f}\")"
   ]
  },
  {
   "cell_type": "code",
   "execution_count": 79,
   "metadata": {},
   "outputs": [
    {
     "name": "stdout",
     "output_type": "stream",
     "text": [
      "Amount is 123,456,789.123%\n"
     ]
    }
   ],
   "source": [
    "# return the value with a comma in the thousands place and convert to percentage \n",
    "\n",
    "print(f\"Amount is {amount:,.3%}\")"
   ]
  },
  {
   "cell_type": "code",
   "execution_count": 80,
   "metadata": {},
   "outputs": [
    {
     "name": "stdout",
     "output_type": "stream",
     "text": [
      "Subtotal: $5299.469999999999\n"
     ]
    }
   ],
   "source": [
    "unit_price = 99.99\n",
    "qty = 53\n",
    "\n",
    "# use formatted strings to format equations and results\n",
    "# multiply unit price and quantity and format the answer with a $\n",
    "\n",
    "print(f\"Subtotal: ${unit_price * qty}\")"
   ]
  },
  {
   "cell_type": "code",
   "execution_count": 81,
   "metadata": {},
   "outputs": [
    {
     "name": "stdout",
     "output_type": "stream",
     "text": [
      "Subtotal: $5,299.469999999999\n"
     ]
    }
   ],
   "source": [
    "# add a comma in the thousands place\n",
    "\n",
    "print(f\"Subtotal: ${unit_price * qty :,}\")"
   ]
  },
  {
   "cell_type": "code",
   "execution_count": 82,
   "metadata": {},
   "outputs": [
    {
     "name": "stdout",
     "output_type": "stream",
     "text": [
      "Subtotal: $5299.47\n"
     ]
    }
   ],
   "source": [
    "# limit the result to two decimal spaces\n",
    "\n",
    "print(f\"Subtotal: ${unit_price * qty :.2f}\") "
   ]
  },
  {
   "cell_type": "code",
   "execution_count": 83,
   "metadata": {},
   "outputs": [
    {
     "name": "stdout",
     "output_type": "stream",
     "text": [
      "Subtotal: $5,299.47\n"
     ]
    }
   ],
   "source": [
    "# add comma and two decimal spaces \n",
    "\n",
    "print(f\"Subtotal: ${unit_price * qty :,.2f}\") # in dollar amount format"
   ]
  },
  {
   "cell_type": "code",
   "execution_count": 84,
   "metadata": {},
   "outputs": [
    {
     "name": "stdout",
     "output_type": "stream",
     "text": [
      "123.451\n"
     ]
    }
   ],
   "source": [
    "x = 123.45143\n",
    "\n",
    "# the number of decimal spaces can be changed\n",
    "\n",
    "print(f\"{x:.3f}\")"
   ]
  },
  {
   "cell_type": "code",
   "execution_count": 85,
   "metadata": {},
   "outputs": [
    {
     "name": "stdout",
     "output_type": "stream",
     "text": [
      "Current rate: 3.26%\n"
     ]
    }
   ],
   "source": [
    "rate = 0.03255    # morgage rate 3.255%\n",
    "\n",
    "# quickly format a value as a percentage \n",
    "\n",
    "print(f\"Current rate: {rate:.2%}\")"
   ]
  },
  {
   "cell_type": "code",
   "execution_count": 86,
   "metadata": {},
   "outputs": [
    {
     "name": "stdout",
     "output_type": "stream",
     "text": [
      "Current rate: 3.255000000%\n"
     ]
    }
   ],
   "source": [
    "# the number of decimal spaces can be changed \n",
    "# 0's will be inserted if there is nothing else to return\n",
    "\n",
    "print(f\"Current rate: {rate:.9%}\")"
   ]
  },
  {
   "cell_type": "markdown",
   "metadata": {},
   "source": [
    "###  Exercise 2\n",
    "\n",
    "- Fix the Python code on the next cell.  It is calculating the sales tax and total price (including sales tax) for 10 books when the price of a book is $49.95 and the tax rate is 6.5%\n",
    "- Show your code works in nice readable format\n"
   ]
  },
  {
   "cell_type": "code",
   "execution_count": 87,
   "metadata": {},
   "outputs": [
    {
     "name": "stdout",
     "output_type": "stream",
     "text": [
      "The total is $531.97\n"
     ]
    }
   ],
   "source": [
    "# fix this code using everything you learned above \n",
    "\n",
    "price = 49.95\n",
    "qty = 10\n",
    "tax = 0.065\n",
    "\n",
    "sub_total = price * qty\n",
    "sales_tax = sub_total * tax\n",
    "total = sub_total + sales_tax\n",
    "print(f\"The total is ${total:,.2f}\")\n"
   ]
  },
  {
   "cell_type": "code",
   "execution_count": 88,
   "metadata": {},
   "outputs": [
    {
     "name": "stdout",
     "output_type": "stream",
     "text": [
      "Price:\t\t$49.95\n",
      "Quantity:\t10\n",
      "------------------------------\n",
      "Subtotal:\t$499.50\n",
      "Sales Tax:\t$32.47\n",
      "==============================\n",
      "Total:\t\t$531.97\n"
     ]
    }
   ],
   "source": [
    "# use formatted string and fix this code so it runs correctly \n",
    "\n",
    "print(f\"Price:\\t\\t${price:.2f}\")\n",
    "print(f\"Quantity:\\t{qty}\")\n",
    "print(\"-\" * 30)\n",
    "print(f\"Subtotal:\\t${sub_total:.2f}\") # tbd\n",
    "print(f\"Sales Tax:\\t${sales_tax:.2f}\")\n",
    "print(\"=\" * 30)\n",
    "print(f\"Total:\\t\\t${total:.2f}\")"
   ]
  },
  {
   "cell_type": "code",
   "execution_count": null,
   "metadata": {},
   "outputs": [],
   "source": []
  },
  {
   "cell_type": "code",
   "execution_count": 91,
   "metadata": {},
   "outputs": [],
   "source": [
    "# fix this code using everything you learned above \n",
    "\n",
    "price = 49.95 # remove $\n",
    "qty = 10\n",
    "tax = 0.065 # convert to decimal\n",
    "\n",
    "subtotal = price * qty # remove one *\n",
    "\n",
    "sales_tax = subtotal * tax\n",
    "\n",
    "total = sub_total + sales_tax # need to change tax to sales_tax"
   ]
  },
  {
   "cell_type": "code",
   "execution_count": 93,
   "metadata": {},
   "outputs": [
    {
     "name": "stdout",
     "output_type": "stream",
     "text": [
      "Price:\t\t$49.95\n",
      "Quantity:\t10\n",
      "------------------------------\n",
      "Subtotal:\t$499.50\n",
      "Sales Tax:\t32.47\n",
      "==============================\n",
      "Total:\t\t531.97\n"
     ]
    }
   ],
   "source": [
    "# use formatted string and fix this code so it runs correctly \n",
    "\n",
    "print(f\"Price:\\t\\t${price:.2f}\") # correct variable names\n",
    "\n",
    "print(f\"Quantity:\\t{qty}\") # the f is missing\n",
    "\n",
    "print(\"-\" * 30) # can't add a number a str, need to multiply\n",
    "\n",
    "print(f\"Subtotal:\\t${subtotal:.2f}\") # change from .3f to .2f to be consistent\n",
    "\n",
    "print(f\"Sales Tax:\\t{sales_tax:.2f}\") #replace $ with \"f\"\n",
    "\n",
    "print(\"=\" * 30)\n",
    "\n",
    "print(f\"Total:\\t\\t{total:.2f}\") # add \"f\" after the 2; remove $ from before the \"2\"; remove the \"total\""
   ]
  },
  {
   "cell_type": "markdown",
   "metadata": {},
   "source": [
    "### Built-in Functions: \n",
    "\n",
    "    input([prompt]) : retrieves a string from a user\n",
    "    \n",
    "The input() function asks the user (that's you) to enter a specific value. When you run a cell with input(), you will be prompted to enter a value manually. The input function will then return a string. You have the option of adding additional text to direct the user on what to do.     "
   ]
  },
  {
   "cell_type": "code",
   "execution_count": 94,
   "metadata": {},
   "outputs": [
    {
     "name": "stdin",
     "output_type": "stream",
     "text": [
      " hello\n"
     ]
    },
    {
     "data": {
      "text/plain": [
       "'hello'"
      ]
     },
     "execution_count": 94,
     "metadata": {},
     "output_type": "execute_result"
    }
   ],
   "source": [
    "# what happens when you run this cell?\n",
    "\n",
    "input()"
   ]
  },
  {
   "cell_type": "code",
   "execution_count": 95,
   "metadata": {},
   "outputs": [
    {
     "name": "stdout",
     "output_type": "stream",
     "text": [
      "Enter your first name:\n"
     ]
    },
    {
     "name": "stdin",
     "output_type": "stream",
     "text": [
      " Andrea\n"
     ]
    },
    {
     "name": "stdout",
     "output_type": "stream",
     "text": [
      "Hello, Andrea!\n"
     ]
    }
   ],
   "source": [
    "# add directions so the user knows what to do\n",
    "\n",
    "print(\"Enter your first name:\")\n",
    "\n",
    "# you can assign a variable to an input function; the value of the variable will be whatever the user inputs\n",
    "\n",
    "first_name = input()\n",
    "\n",
    "# print the result to see what the user submitted \n",
    "\n",
    "print(\"Hello, \" + first_name + '!')"
   ]
  },
  {
   "cell_type": "code",
   "execution_count": 96,
   "metadata": {},
   "outputs": [
    {
     "name": "stdout",
     "output_type": "stream",
     "text": [
      "What is your name?  "
     ]
    },
    {
     "name": "stdin",
     "output_type": "stream",
     "text": [
      " Andrea\n"
     ]
    },
    {
     "name": "stdout",
     "output_type": "stream",
     "text": [
      "Hello, Andrea!\n"
     ]
    }
   ],
   "source": [
    "print(\"What is your name?\", end=\"  \") # add an extra blank space after the question\n",
    "\n",
    "first_name = input()\n",
    "\n",
    "print(\"Hello, \" + first_name + '!')"
   ]
  },
  {
   "cell_type": "code",
   "execution_count": 97,
   "metadata": {},
   "outputs": [
    {
     "name": "stdin",
     "output_type": "stream",
     "text": [
      "Enter your first name:  Andrea\n"
     ]
    },
    {
     "name": "stdout",
     "output_type": "stream",
     "text": [
      "Hello, Andrea!\n"
     ]
    }
   ],
   "source": [
    "first_name = input(\"Enter your first name: \")\n",
    "\n",
    "print(\"Hello, \" + first_name + '!')"
   ]
  },
  {
   "cell_type": "code",
   "execution_count": 99,
   "metadata": {},
   "outputs": [
    {
     "name": "stdout",
     "output_type": "stream",
     "text": [
      "Enter a number:\n"
     ]
    },
    {
     "name": "stdin",
     "output_type": "stream",
     "text": [
      ">>>> 3\n"
     ]
    },
    {
     "name": "stdout",
     "output_type": "stream",
     "text": [
      "Enter next number:\n"
     ]
    },
    {
     "name": "stdin",
     "output_type": "stream",
     "text": [
      ">>>> 90\n"
     ]
    },
    {
     "name": "stdout",
     "output_type": "stream",
     "text": [
      "3 * 90 = 270\n"
     ]
    }
   ],
   "source": [
    "# a prompt can be added to provide the user with more direction or a stylistic choice \n",
    "\n",
    "prompt = \">>>>\"\n",
    "\n",
    "print(\"Enter a number:\")\n",
    "\n",
    "numb1 = input(prompt) # include the prompt in the paraenthses of the input function \n",
    "\n",
    "print(\"Enter next number:\")\n",
    "\n",
    "numb2 = input(prompt)\n",
    "\n",
    "total = int(numb1) * int(numb2)\n",
    "# total = numb1 * numb2\n",
    "\n",
    "print(f\"{numb1} * {numb2} = {total}\")\n",
    "\n",
    "#print(f\"{numb1 * numb2})\n",
    "\n",
    "## remember, by default input() returns a string value"
   ]
  },
  {
   "cell_type": "markdown",
   "metadata": {},
   "source": [
    "### Built-in Functions:    \n",
    "    \n",
    "    int(arg)        : converts arg into an integer value\n",
    "    float(arg)      : converts arg into a float value\n",
    "    str(arg)        : converts arg into a string value\n",
    "    \n",
    "Sometimes you want to convert data from one type to another. You can do this easily by using the int(), float(), and str() functions that take a object/value and convert it to the specified type. "
   ]
  },
  {
   "cell_type": "code",
   "execution_count": 100,
   "metadata": {},
   "outputs": [
    {
     "data": {
      "text/plain": [
       "123"
      ]
     },
     "execution_count": 100,
     "metadata": {},
     "output_type": "execute_result"
    }
   ],
   "source": [
    "# convert a string to an integer\n",
    "\n",
    "int(\"123\")"
   ]
  },
  {
   "cell_type": "code",
   "execution_count": 101,
   "metadata": {},
   "outputs": [
    {
     "data": {
      "text/plain": [
       "123"
      ]
     },
     "execution_count": 101,
     "metadata": {},
     "output_type": "execute_result"
    }
   ],
   "source": [
    "# convert float to integer\n",
    "\n",
    "int(123.999)"
   ]
  },
  {
   "cell_type": "code",
   "execution_count": 102,
   "metadata": {},
   "outputs": [
    {
     "ename": "ValueError",
     "evalue": "invalid literal for int() with base 10: 'abc'",
     "output_type": "error",
     "traceback": [
      "\u001b[1;31m---------------------------------------------------------------------------\u001b[0m",
      "\u001b[1;31mValueError\u001b[0m                                Traceback (most recent call last)",
      "Cell \u001b[1;32mIn[102], line 3\u001b[0m\n\u001b[0;32m      1\u001b[0m \u001b[38;5;66;03m# convert string to integer\u001b[39;00m\n\u001b[1;32m----> 3\u001b[0m \u001b[38;5;28mint\u001b[39m(\u001b[38;5;124m\"\u001b[39m\u001b[38;5;124mabc\u001b[39m\u001b[38;5;124m\"\u001b[39m)\n",
      "\u001b[1;31mValueError\u001b[0m: invalid literal for int() with base 10: 'abc'"
     ]
    }
   ],
   "source": [
    "# convert string to integer\n",
    "\n",
    "int(\"abc\")"
   ]
  },
  {
   "cell_type": "code",
   "execution_count": 103,
   "metadata": {},
   "outputs": [
    {
     "data": {
      "text/plain": [
       "123.0"
      ]
     },
     "execution_count": 103,
     "metadata": {},
     "output_type": "execute_result"
    }
   ],
   "source": [
    "# convert integer to float\n",
    "\n",
    "float(123)"
   ]
  },
  {
   "cell_type": "code",
   "execution_count": 104,
   "metadata": {},
   "outputs": [
    {
     "data": {
      "text/plain": [
       "123.99"
      ]
     },
     "execution_count": 104,
     "metadata": {},
     "output_type": "execute_result"
    }
   ],
   "source": [
    "# convert string to float\n",
    "\n",
    "float(\"123.99\")"
   ]
  },
  {
   "cell_type": "code",
   "execution_count": 105,
   "metadata": {},
   "outputs": [
    {
     "data": {
      "text/plain": [
       "'123'"
      ]
     },
     "execution_count": 105,
     "metadata": {},
     "output_type": "execute_result"
    }
   ],
   "source": [
    "# convert integer to string\n",
    "\n",
    "str(123)"
   ]
  },
  {
   "cell_type": "code",
   "execution_count": 106,
   "metadata": {},
   "outputs": [
    {
     "data": {
      "text/plain": [
       "'123.999'"
      ]
     },
     "execution_count": 106,
     "metadata": {},
     "output_type": "execute_result"
    }
   ],
   "source": [
    "# convert float to string\n",
    "\n",
    "str(123.999)"
   ]
  },
  {
   "cell_type": "code",
   "execution_count": 107,
   "metadata": {},
   "outputs": [
    {
     "name": "stdout",
     "output_type": "stream",
     "text": [
      "Enter a number:\n"
     ]
    },
    {
     "name": "stdin",
     "output_type": "stream",
     "text": [
      ">>> 13\n"
     ]
    },
    {
     "name": "stdout",
     "output_type": "stream",
     "text": [
      "Enter next number:\n"
     ]
    },
    {
     "name": "stdin",
     "output_type": "stream",
     "text": [
      ">>> 90\n"
     ]
    },
    {
     "name": "stdout",
     "output_type": "stream",
     "text": [
      "13 * 90 = 1170\n"
     ]
    }
   ],
   "source": [
    "prompt = \">>>\"\n",
    "\n",
    "print(\"Enter a number:\")\n",
    "numb1 = int(input(prompt)) # use the int() function to convert input from string to integer\n",
    "\n",
    "print(\"Enter next number:\")\n",
    "numb2 = int(input(prompt))\n",
    "\n",
    "total = numb1 * numb2\n",
    "\n",
    "print(f\"{numb1} * {numb2} = {total}\")"
   ]
  },
  {
   "cell_type": "code",
   "execution_count": 108,
   "metadata": {},
   "outputs": [
    {
     "name": "stdout",
     "output_type": "stream",
     "text": [
      "13 + 90 = 103\n",
      "13 - 90 = -77\n",
      "13 * 90 = 1170\n",
      "13 / 90 = 0.14444444444444443\n"
     ]
    }
   ],
   "source": [
    "print(f\"{numb1} + {numb2} = {numb1 + numb2}\")\n",
    "print(f\"{numb1} - {numb2} = {numb1 - numb2}\")\n",
    "print(f\"{numb1} * {numb2} = {numb1 * numb2}\")\n",
    "print(f\"{numb1} / {numb2} = {numb1 / numb2}\")"
   ]
  },
  {
   "cell_type": "markdown",
   "metadata": {},
   "source": [
    "###  Exercise 3\n",
    "\n",
    "- Copy and paste the Exercise 2 solution cell.\n",
    "- Modify the code to ask a user for price and quantity of a book.\n",
    "- Use the copied solution cell to calculate new total.\n",
    "- Show your code works in nice readable format - using previous solution.\n"
   ]
  },
  {
   "cell_type": "code",
   "execution_count": 109,
   "metadata": {},
   "outputs": [
    {
     "name": "stdout",
     "output_type": "stream",
     "text": [
      "Enter the price of the book: \n"
     ]
    },
    {
     "name": "stdin",
     "output_type": "stream",
     "text": [
      " 16.89\n"
     ]
    }
   ],
   "source": [
    "# ask a user for the price of a book\n",
    "\n",
    "print(\"Enter the price of the book: \")\n",
    "price = float(input())"
   ]
  },
  {
   "cell_type": "code",
   "execution_count": 110,
   "metadata": {},
   "outputs": [
    {
     "name": "stdout",
     "output_type": "stream",
     "text": [
      "Enter the quantity of books: \n"
     ]
    },
    {
     "name": "stdin",
     "output_type": "stream",
     "text": [
      " 12\n"
     ]
    }
   ],
   "source": [
    "# ask a user for the quantity of a book\n",
    "\n",
    "print(\"Enter the quantity of books: \")\n",
    "qty = int(input())"
   ]
  },
  {
   "cell_type": "code",
   "execution_count": 111,
   "metadata": {},
   "outputs": [
    {
     "name": "stdout",
     "output_type": "stream",
     "text": [
      "Price:\t\t$16.89\n",
      "Quantity:\t12\n",
      "------------------------------\n",
      "Subtotal:\t$202.68\n",
      "Sales Tax:\t$13.17\n",
      "==============================\n",
      "Total:\t\t$215.85\n"
     ]
    }
   ],
   "source": [
    "# copy and paste the Exercise 2 solution, and run\n",
    "# you should get a new answer because your values will be different\n",
    "\n",
    "tax = 0.065\n",
    "\n",
    "sub_total = price * qty\n",
    "sales_tax = sub_total * tax\n",
    "total = sub_total + sales_tax\n",
    "\n",
    "print(f\"Price:\\t\\t${price:.2f}\")\n",
    "print(f\"Quantity:\\t{qty}\")\n",
    "print(\"-\" * 30)\n",
    "print(f\"Subtotal:\\t${sub_total:.2f}\") # tbd\n",
    "print(f\"Sales Tax:\\t${sales_tax:.2f}\")\n",
    "print(\"=\" * 30)\n",
    "print(f\"Total:\\t\\t${total:.2f}\")"
   ]
  },
  {
   "cell_type": "code",
   "execution_count": null,
   "metadata": {},
   "outputs": [],
   "source": []
  }
 ],
 "metadata": {
  "kernelspec": {
   "display_name": "Python 3 (ipykernel)",
   "language": "python",
   "name": "python3"
  },
  "language_info": {
   "codemirror_mode": {
    "name": "ipython",
    "version": 3
   },
   "file_extension": ".py",
   "mimetype": "text/x-python",
   "name": "python",
   "nbconvert_exporter": "python",
   "pygments_lexer": "ipython3",
   "version": "3.11.7"
  }
 },
 "nbformat": 4,
 "nbformat_minor": 4
}

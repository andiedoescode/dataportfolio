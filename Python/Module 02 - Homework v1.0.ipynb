{
 "cells": [
  {
   "cell_type": "markdown",
   "id": "c209b646",
   "metadata": {},
   "source": [
    "### Homework #2"
   ]
  },
  {
   "cell_type": "markdown",
   "id": "869ebfd6",
   "metadata": {},
   "source": [
    "1. Round 4.5667 to the nearest hundreth (2 decimals) using a build-in function, round()."
   ]
  },
  {
   "cell_type": "code",
   "execution_count": 1,
   "id": "123658aa",
   "metadata": {},
   "outputs": [
    {
     "data": {
      "text/plain": [
       "4.57"
      ]
     },
     "execution_count": 1,
     "metadata": {},
     "output_type": "execute_result"
    }
   ],
   "source": [
    "val = 4.5667\n",
    "round(val, 2)"
   ]
  },
  {
   "cell_type": "markdown",
   "id": "9d3f352c",
   "metadata": {},
   "source": [
    "2. Convert \"657\" to an integer data type"
   ]
  },
  {
   "cell_type": "code",
   "execution_count": 2,
   "id": "d5a67683",
   "metadata": {},
   "outputs": [
    {
     "data": {
      "text/plain": [
       "657"
      ]
     },
     "execution_count": 2,
     "metadata": {},
     "output_type": "execute_result"
    }
   ],
   "source": [
    "num = \"657\"\n",
    "int(num)"
   ]
  },
  {
   "cell_type": "markdown",
   "id": "a36f06d4",
   "metadata": {},
   "source": [
    "3. Write a program to get two numbers from a user. Then, create a 6-digit code that is a series of randomly generated numbers between the two numbers given by the user. Print the 6-digit code so all digits are separated by a dash. "
   ]
  },
  {
   "cell_type": "code",
   "execution_count": 12,
   "id": "021c92d4",
   "metadata": {},
   "outputs": [
    {
     "name": "stdin",
     "output_type": "stream",
     "text": [
      "Enter number 1:  2\n",
      "Enter number 2:  7\n"
     ]
    },
    {
     "name": "stdout",
     "output_type": "stream",
     "text": [
      "2-2-4-7-5-5\n"
     ]
    }
   ],
   "source": [
    "import random as rand\n",
    "\n",
    "num1 = int(input(\"Enter number 1: \"))\n",
    "num2 = int(input(\"Enter number 2: \"))\n",
    "code = \"\"\n",
    "\n",
    "def generateCode(x,y):\n",
    "    return str(rand.randint(x, y))\n",
    "    \n",
    "code += generateCode(num1, num2) + \"-\"\n",
    "code += generateCode(num1, num2) + \"-\"\n",
    "code += generateCode(num1, num2) + \"-\"\n",
    "code += generateCode(num1, num2) + \"-\"\n",
    "code += generateCode(num1, num2) + \"-\"\n",
    "code += generateCode(num1, num2)\n",
    "print(code)\n",
    "\n"
   ]
  },
  {
   "cell_type": "markdown",
   "id": "ee1441a1",
   "metadata": {},
   "source": [
    "4. Write a program to remove ALL the white spaces from the following text:\n",
    "\n",
    "        Hickory, dickory, dock,     \n",
    "        The mouse ran up the clock.   \n",
    "        The clock struck one,   \n",
    "        The mouse ran down,                      \n",
    "        Hickory, dickory, dock                  "
   ]
  },
  {
   "cell_type": "code",
   "execution_count": 19,
   "id": "8bf680f1",
   "metadata": {},
   "outputs": [],
   "source": [
    "ln1 = \" Hickory, dickory, dock,     \"\n",
    "ln2 = \" The mouse ran up the clock.   \"\n",
    "ln3 = \" The clock struck one,   \"\n",
    "ln4 = \" The mouse ran down,                      \"\n",
    "ln5 = \" Hickory, dickory, dock\""
   ]
  },
  {
   "cell_type": "code",
   "execution_count": 20,
   "id": "59d9c718",
   "metadata": {},
   "outputs": [],
   "source": [
    "def cleanText(text):\n",
    "    return text.strip()"
   ]
  },
  {
   "cell_type": "code",
   "execution_count": 23,
   "id": "11c24618",
   "metadata": {},
   "outputs": [
    {
     "name": "stdout",
     "output_type": "stream",
     "text": [
      "Hickory, dickory, dock,\n",
      "The mouse ran up the clock.\n",
      "The clock struck one,\n",
      "The mouse ran down,\n",
      "Hickory, dickory, dock\n"
     ]
    }
   ],
   "source": [
    "print(cleanText(ln1))\n",
    "print(cleanText(ln2))\n",
    "print(cleanText(ln3))\n",
    "print(cleanText(ln4))\n",
    "print(cleanText(ln5))"
   ]
  },
  {
   "cell_type": "markdown",
   "id": "72d87b5b",
   "metadata": {},
   "source": [
    "5. Write a function to calculate the miles per gallon. Get a miles driven and gallons used from a user and call your function to calculate the miles per gallon."
   ]
  },
  {
   "cell_type": "code",
   "execution_count": 24,
   "id": "27be7372",
   "metadata": {},
   "outputs": [
    {
     "name": "stdin",
     "output_type": "stream",
     "text": [
      "Enter the number miles:  100\n",
      "Enter the number of gallons:  10\n"
     ]
    },
    {
     "data": {
      "text/plain": [
       "10.0"
      ]
     },
     "execution_count": 24,
     "metadata": {},
     "output_type": "execute_result"
    }
   ],
   "source": [
    "miles = int(input(\"Enter the number miles: \"))\n",
    "gallons = int(input(\"Enter the number of gallons: \"))\n",
    "\n",
    "def mpg(miles, gallons):\n",
    "    return miles/gallons\n",
    "\n",
    "mpg(miles, gallons)\n",
    "    "
   ]
  },
  {
   "cell_type": "markdown",
   "id": "1f3942b8",
   "metadata": {},
   "source": [
    "6. Enhance the <b>compute()</b> function created during Module 2. Enhance the function to compute a circle's area and circumference where:\n",
    "\n",
    " - circle's area = 3.14 X (radius X radius)   \n",
    " - circle's circumference = 3.14 X diameter"
   ]
  },
  {
   "cell_type": "code",
   "execution_count": 25,
   "id": "df43daca",
   "metadata": {},
   "outputs": [
    {
     "name": "stdout",
     "output_type": "stream",
     "text": [
      "Area is 78.5, and circumference is 15.700000000000001\n"
     ]
    }
   ],
   "source": [
    "def compute(r):\n",
    "    area = 3.14 * (r * r)\n",
    "    circumference = 3.14 * r\n",
    "    print(f\"Area is {area}, and circumference is {circumference}\")\n",
    "\n",
    "compute(5)"
   ]
  },
  {
   "cell_type": "code",
   "execution_count": null,
   "id": "fa8de89a",
   "metadata": {},
   "outputs": [],
   "source": []
  },
  {
   "cell_type": "markdown",
   "id": "4c5d83bb",
   "metadata": {},
   "source": [
    "7. Write a function called multiply_two() that accepts two parameters. The function should print a message like '15 * 2 = 30'.  Randomly generate two numbers between 1 and 100, then call the function with the two random numbers."
   ]
  },
  {
   "cell_type": "code",
   "execution_count": 28,
   "id": "fe5ca2dc",
   "metadata": {},
   "outputs": [
    {
     "name": "stdout",
     "output_type": "stream",
     "text": [
      "1 * 76 = 76\n"
     ]
    }
   ],
   "source": [
    "def multiply_two():\n",
    "    num1 = rand.randint(1, 101)\n",
    "    num2 = rand.randint(1, 101)\n",
    "    print(f\"{num1} * {num2} = {num1 * num2}\")\n",
    "\n",
    "multiply_two()"
   ]
  },
  {
   "cell_type": "code",
   "execution_count": null,
   "id": "9f83774c",
   "metadata": {},
   "outputs": [],
   "source": []
  },
  {
   "cell_type": "markdown",
   "id": "36865477",
   "metadata": {},
   "source": [
    "8. Create a function for a multiplication table.  Get a number from a user and then call you function which produces a multiplication table for that number.\n",
    "The output should look something like this:\n",
    "\n",
    "        Enter a number: 3\n",
    "        3 X 1 = 3\n",
    "        3 X 2 = 6\n",
    "        3 X 3 = 9\n",
    "        3 X 4 = 12\n",
    "        3 X 5 = 15\n",
    "        3 X 6 = 18\n",
    "        3 X 7 = 21\n",
    "        3 X 8 = 24\n",
    "        3 X 9 = 27"
   ]
  },
  {
   "cell_type": "code",
   "execution_count": 30,
   "id": "b023e863",
   "metadata": {},
   "outputs": [],
   "source": [
    "def multiTable():\n",
    "    num = int(input(\"What is your number? \"))\n",
    "    print(f\"{num} X 1 = {num * 1}\")\n",
    "    print(f\"{num} X 2 = {num * 2}\")\n",
    "    print(f\"{num} X 3 = {num * 3}\")\n",
    "    print(f\"{num} X 4 = {num * 4}\")\n",
    "    print(f\"{num} X 5 = {num * 5}\")\n",
    "    print(f\"{num} X 6 = {num * 6}\")\n",
    "    print(f\"{num} X 7 = {num * 7}\")\n",
    "    print(f\"{num} X 8 = {num * 8}\")\n",
    "    print(f\"{num} X 9 = {num * 9}\")"
   ]
  },
  {
   "cell_type": "code",
   "execution_count": 31,
   "id": "563c8445",
   "metadata": {},
   "outputs": [
    {
     "name": "stdin",
     "output_type": "stream",
     "text": [
      "What is your number?  3\n"
     ]
    },
    {
     "name": "stdout",
     "output_type": "stream",
     "text": [
      "3 X 1 = 3\n",
      "3 X 2 = 6\n",
      "3 X 3 = 9\n",
      "3 X 4 = 12\n",
      "3 X 5 = 15\n",
      "3 X 6 = 18\n",
      "3 X 7 = 21\n",
      "3 X 8 = 24\n",
      "3 X 9 = 27\n"
     ]
    }
   ],
   "source": [
    "multiTable()"
   ]
  },
  {
   "cell_type": "code",
   "execution_count": null,
   "id": "1158ebd6-b007-45ef-9a32-62cdc4f00803",
   "metadata": {},
   "outputs": [],
   "source": []
  }
 ],
 "metadata": {
  "kernelspec": {
   "display_name": "Python 3 (ipykernel)",
   "language": "python",
   "name": "python3"
  },
  "language_info": {
   "codemirror_mode": {
    "name": "ipython",
    "version": 3
   },
   "file_extension": ".py",
   "mimetype": "text/x-python",
   "name": "python",
   "nbconvert_exporter": "python",
   "pygments_lexer": "ipython3",
   "version": "3.11.7"
  }
 },
 "nbformat": 4,
 "nbformat_minor": 5
}
